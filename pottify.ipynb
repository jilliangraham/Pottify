{
 "cells": [
  {
   "cell_type": "code",
   "execution_count": 21,
   "id": "f6c4660e-1b10-43d4-8aea-8c6dbc4cfb49",
   "metadata": {
    "tags": []
   },
   "outputs": [],
   "source": [
    "import config\n",
    "from bs4 import BeautifulSoup\n",
    "import requests\n",
    "import pandas as pd\n",
    "import spotipy as sp\n",
    "import pprint\n",
    "from spotipy.oauth2 import SpotifyClientCredentials\n",
    "import json\n",
    "from IPython.display import display, FileLink\n",
    "import numpy as np\n",
    "import pickle\n",
    "from sklearn import datasets\n",
    "from sklearn.preprocessing import StandardScaler\n",
    "from sklearn.cluster import KMeans\n",
    "import matplotlib.pyplot as plt\n",
    "from sklearn.metrics import silhouette_score\n",
    "import random\n",
    "from IPython.display import IFrame"
   ]
  },
  {
   "cell_type": "code",
   "execution_count": 22,
   "id": "e7408b7f",
   "metadata": {},
   "outputs": [],
   "source": [
    "with open(\"kmeans_14.pickle\", \"rb\") as f:\n",
    "    scaler = pickle.load(f)\n",
    "\n",
    "def load(filename = \"kmeans_14.pickle\"): \n",
    "    try: \n",
    "        with open(filename, \"rb\") as f: \n",
    "            return pickle.load(f) \n",
    "        \n",
    "    except FileNotFoundError: \n",
    "        print(\"File not found!\") "
   ]
  },
  {
   "cell_type": "code",
   "execution_count": 23,
   "id": "36b28d06-e207-43d9-a825-e8fc26a31a21",
   "metadata": {},
   "outputs": [],
   "source": [
    "#Initialize SpotiPy with user credentials\n",
    "sp = sp.Spotify(auth_manager=SpotifyClientCredentials(client_id= config.client_id,\n",
    "                                                           client_secret= config.client_secret))"
   ]
  },
  {
   "cell_type": "code",
   "execution_count": 24,
   "id": "58495057-bb99-4c64-a7bd-72b0edf75f04",
   "metadata": {
    "scrolled": true,
    "tags": []
   },
   "outputs": [
    {
     "name": "stdout",
     "output_type": "stream",
     "text": [
      "<class 'pandas.core.frame.DataFrame'>\n",
      "RangeIndex: 1193 entries, 0 to 1192\n",
      "Data columns (total 13 columns):\n",
      " #   Column            Non-Null Count  Dtype  \n",
      "---  ------            --------------  -----  \n",
      " 0   danceability      1193 non-null   float64\n",
      " 1   energy            1193 non-null   float64\n",
      " 2   key               1193 non-null   float64\n",
      " 3   loudness          1193 non-null   float64\n",
      " 4   mode              1193 non-null   float64\n",
      " 5   speechiness       1193 non-null   float64\n",
      " 6   acousticness      1193 non-null   float64\n",
      " 7   instrumentalness  1193 non-null   float64\n",
      " 8   liveness          1193 non-null   float64\n",
      " 9   valence           1193 non-null   float64\n",
      " 10  tempo             1193 non-null   float64\n",
      " 11  cluster           1193 non-null   float64\n",
      " 12  id                1193 non-null   object \n",
      "dtypes: float64(12), object(1)\n",
      "memory usage: 121.3+ KB\n"
     ]
    }
   ],
   "source": [
    "pottify_df_clustered = pd.read_csv('pottify_df_clustered.csv')\n",
    "pottify_df_clustered.info()"
   ]
  },
  {
   "cell_type": "code",
   "execution_count": 31,
   "id": "46870e5d-ae83-4fc3-a3ef-a29e7e87e3f2",
   "metadata": {
    "tags": []
   },
   "outputs": [],
   "source": [
    "def recommended_songs (user_input):\n",
    "\n",
    "    user_input = input(\"Enter a song title: \").lower()\n",
    "    \n",
    "    #get song ID based on user input\n",
    "    api_request = sp.search(q = user_input, limit=1)\n",
    "    song_id = str(api_request[\"tracks\"][\"items\"][0][\"id\"])\n",
    "\n",
    "    #get features of song\n",
    "    song_id_af = sp.audio_features(song_id)\n",
    "    \n",
    "    # make dataframe of AF\n",
    "    user_input_df = pd.DataFrame(song_id_af)\n",
    "    user_input_df.drop(columns = ['type', 'id', 'uri', 'track_href', 'analysis_url', 'duration_ms', 'time_signature'], inplace = True)\n",
    "\n",
    "    #scale the user's dataframe\n",
    "    user_input_df_scaled = scaler.transform(user_input_df)\n",
    "\n",
    "    #predict the cluster based on user df\n",
    "    user_song_cluster_pred = scaler.predict(user_input_df)\n",
    "    \n",
    "    #recieve cluster\n",
    "    user_song_cluster = user_song_cluster_pred[0]\n",
    "    \n",
    "    #create a new dataframe based on predicted cluster\n",
    "    user_song_cluster_df = pottify_df_clustered[pottify_df_clustered['cluster'] == user_song_cluster]\n",
    "    user_song_cluster_df = user_song_cluster_df.reset_index(drop=True)     \n",
    "    \n",
    "    #apply model to dataframe\n",
    "    random_songs_indexed = random.randint(0, len(user_song_cluster_df) - 1)  \n",
    "    random_songs_id = user_song_cluster_df['id'].iloc[random_songs_indexed]\n",
    "\n",
    "    print(\"Here is a recommendation based on the song you entered:\")\n",
    "    return IFrame(src=\"https://open.spotify.com/embed/track/\" + random_songs_id,\n",
    "              width=\"320\",\n",
    "              height=\"80\",\n",
    "              frameborder=\"0\",\n",
    "              allowtransparency=\"true\",\n",
    "              allow=\"encrypted-media\")"
   ]
  },
  {
   "cell_type": "code",
   "execution_count": 34,
   "id": "3d8f3311-9e23-4de9-a103-ae42d1281b99",
   "metadata": {
    "tags": []
   },
   "outputs": [
    {
     "name": "stdout",
     "output_type": "stream",
     "text": [
      "Enter a song title: sweet caroline\n",
      "Here is a recommendation based on the song you entered:\n"
     ]
    },
    {
     "data": {
      "text/html": [
       "\n",
       "        <iframe\n",
       "            width=\"320\"\n",
       "            height=\"80\"\n",
       "            src=\"https://open.spotify.com/embed/track/4YA5g2UpNLmdql8fdrhlwY?frameborder=0&allowtransparency=true&allow=encrypted-media\"\n",
       "            frameborder=\"0\"\n",
       "            allowfullscreen\n",
       "            \n",
       "        ></iframe>\n",
       "        "
      ],
      "text/plain": [
       "<IPython.lib.display.IFrame at 0x128a0db10>"
      ]
     },
     "execution_count": 34,
     "metadata": {},
     "output_type": "execute_result"
    }
   ],
   "source": [
    "# Call the function with the sample input\n",
    "recommendation_iframe = recommended_songs(user_input)\n",
    "\n",
    "# Display the recommendation iframe\n",
    "recommendation_iframe\n"
   ]
  },
  {
   "cell_type": "code",
   "execution_count": null,
   "id": "88723110",
   "metadata": {},
   "outputs": [],
   "source": []
  }
 ],
 "metadata": {
  "kernelspec": {
   "display_name": "Python 3 (ipykernel)",
   "language": "python",
   "name": "python3"
  },
  "language_info": {
   "codemirror_mode": {
    "name": "ipython",
    "version": 3
   },
   "file_extension": ".py",
   "mimetype": "text/x-python",
   "name": "python",
   "nbconvert_exporter": "python",
   "pygments_lexer": "ipython3",
   "version": "3.11.5"
  }
 },
 "nbformat": 4,
 "nbformat_minor": 5
}
