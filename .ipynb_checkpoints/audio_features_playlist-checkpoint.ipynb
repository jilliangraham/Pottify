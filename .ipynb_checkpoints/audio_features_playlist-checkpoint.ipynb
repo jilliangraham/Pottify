{
 "cells": [
  {
   "cell_type": "markdown",
   "id": "3cc3a467-2016-4339-abbc-e77c0157d7ce",
   "metadata": {},
   "source": [
    "# Create seperate dfs for different genres\n"
   ]
  },
  {
   "cell_type": "markdown",
   "id": "b0d3691b-bffd-4124-9160-26ae1e5160d8",
   "metadata": {},
   "source": [
    "## get playlist IDs"
   ]
  },
  {
   "cell_type": "code",
   "execution_count": 3,
   "id": "dd2a52b9-07d4-4f86-97ae-64426489d0c0",
   "metadata": {
    "tags": []
   },
   "outputs": [],
   "source": [
    "import config"
   ]
  },
  {
   "cell_type": "code",
   "execution_count": 106,
   "id": "05d7e3e1-3a32-44f1-8479-efbb3bc11fcc",
   "metadata": {
    "tags": []
   },
   "outputs": [],
   "source": [
    "import spotipy as sp\n",
    "import pandas as pd\n",
    "import json\n",
    "from spotipy.oauth2 import SpotifyClientCredentials\n",
    "import pprint\n",
    "from IPython.display import display, FileLink\n",
    "\n",
    "\n",
    "#Initialize SpotiPy with user credentials\n",
    "sp = spotipy.Spotify(auth_manager=SpotifyClientCredentials(client_id= config.client_id,\n",
    "                                                           client_secret= config.client_secret))\n"
   ]
  },
  {
   "cell_type": "code",
   "execution_count": 108,
   "id": "ca6bfbc4-6eb0-4bed-89ea-a8f0c146be8f",
   "metadata": {
    "tags": []
   },
   "outputs": [],
   "source": [
    "def get_playlist_tracks(username, playlist_id):\n",
    "    results = sp.user_playlist_tracks(username,playlist_id,market=\"GB\")\n",
    "    tracks = results['items']\n",
    "    while results['next']:\n",
    "        results = sp.next(results)\n",
    "        tracks.extend(results['items'])\n",
    "    return tracks"
   ]
  },
  {
   "cell_type": "markdown",
   "id": "6cc9e0f6-32af-4454-b7b9-5b9b0f6a4a7f",
   "metadata": {
    "tags": []
   },
   "source": [
    "### rock playlist"
   ]
  },
  {
   "cell_type": "code",
   "execution_count": 51,
   "id": "a74db7a8-e0c0-4bb6-a31d-ab7e06b09d45",
   "metadata": {
    "tags": []
   },
   "outputs": [],
   "source": [
    "rock_playlist = get_playlist_tracks('Spotify', '37i9dQZF1DWXRqgorJj26U')"
   ]
  },
  {
   "cell_type": "code",
   "execution_count": 34,
   "id": "a782421a-fb5a-40bf-9d5b-0782e0c9c61d",
   "metadata": {
    "tags": []
   },
   "outputs": [
    {
     "data": {
      "text/plain": [
       "200"
      ]
     },
     "execution_count": 34,
     "metadata": {},
     "output_type": "execute_result"
    }
   ],
   "source": [
    "rock_songs = []\n",
    "\n",
    "for song in rock_playlist:\n",
    "    rock_songs.append(song['track']['id'])\n",
    "\n",
    "len(rock_songs)"
   ]
  },
  {
   "cell_type": "code",
   "execution_count": 64,
   "id": "5bd26235-d1b3-4546-a951-ddaca2fb4c00",
   "metadata": {
    "tags": []
   },
   "outputs": [
    {
     "data": {
      "text/plain": [
       "2"
      ]
     },
     "execution_count": 64,
     "metadata": {},
     "output_type": "execute_result"
    }
   ],
   "source": [
    "chunk_size = 100\n",
    "rock_songs_chopped = [rock_songs[i:i+chunk_size] for i in range(0,len(rock_songs), 100)]\n",
    "\n",
    "len(rock_songs_chopped)"
   ]
  },
  {
   "cell_type": "code",
   "execution_count": 94,
   "id": "2120a334-4d7b-4a2e-b943-ddf04c93d847",
   "metadata": {
    "tags": []
   },
   "outputs": [],
   "source": [
    "rock_song_af = []\n",
    "\n",
    "for song in rock_songs_chopped:\n",
    "    rock_song_af.extend(sp.audio_features(song))\n",
    "\n",
    "rock_df = pd.DataFrame(rock_song_af)"
   ]
  },
  {
   "cell_type": "markdown",
   "id": "a711daff-183f-49cb-997b-ba3e352b927b",
   "metadata": {},
   "source": [
    "### oldies playlist"
   ]
  },
  {
   "cell_type": "code",
   "execution_count": 36,
   "id": "8ee28116-1ea7-42f8-8397-8c8c86ed22c8",
   "metadata": {
    "tags": []
   },
   "outputs": [],
   "source": [
    "oldies_playlist = get_playlist_tracks('Spotify', '37i9dQZF1DX56bqlsMxJYR')\n",
    "# need to split"
   ]
  },
  {
   "cell_type": "code",
   "execution_count": 38,
   "id": "91c8db81-90b1-44f5-a7eb-2948d909e110",
   "metadata": {
    "tags": []
   },
   "outputs": [
    {
     "data": {
      "text/plain": [
       "150"
      ]
     },
     "execution_count": 38,
     "metadata": {},
     "output_type": "execute_result"
    }
   ],
   "source": [
    "oldies_songs = []\n",
    "\n",
    "for song in oldies_playlist:\n",
    "    oldies_songs.append(song['track']['id'])\n",
    "    \n",
    "len(oldies_songs)"
   ]
  },
  {
   "cell_type": "code",
   "execution_count": 65,
   "id": "0ab206fd-0a43-4af1-a681-ac3e812bcf9e",
   "metadata": {
    "tags": []
   },
   "outputs": [
    {
     "data": {
      "text/plain": [
       "2"
      ]
     },
     "execution_count": 65,
     "metadata": {},
     "output_type": "execute_result"
    }
   ],
   "source": [
    "oldies_songs_chopped = [oldies_songs[i:i+chunk_size] for i in range(0,len(oldies_songs), 100)]\n",
    "\n",
    "len(oldies_songs_chopped)"
   ]
  },
  {
   "cell_type": "code",
   "execution_count": 96,
   "id": "60607f20-192a-4737-8cd2-d9d538338459",
   "metadata": {
    "tags": []
   },
   "outputs": [],
   "source": [
    "oldies_song_af = []\n",
    "\n",
    "for song in oldies_songs_chopped:\n",
    "    oldies_song_af.extend(sp.audio_features(song))\n",
    "\n",
    "oldies_df = pd.DataFrame(oldies_song_af)"
   ]
  },
  {
   "cell_type": "markdown",
   "id": "e23a18bb-f254-496c-aecb-ee4ff54f12ba",
   "metadata": {
    "tags": []
   },
   "source": [
    "### r&b playlist"
   ]
  },
  {
   "cell_type": "code",
   "execution_count": 39,
   "id": "b5867948",
   "metadata": {
    "tags": []
   },
   "outputs": [],
   "source": [
    "rnb_playlist = get_playlist_tracks('Spotify', '37i9dQZF1DX2hNQN2Fv6Cy')\n",
    "# need to split"
   ]
  },
  {
   "cell_type": "code",
   "execution_count": 40,
   "id": "e3b0e6c3-c899-4740-93fb-d24986421a41",
   "metadata": {
    "tags": []
   },
   "outputs": [
    {
     "data": {
      "text/plain": [
       "128"
      ]
     },
     "execution_count": 40,
     "metadata": {},
     "output_type": "execute_result"
    }
   ],
   "source": [
    "rnb_songs = []\n",
    "\n",
    "for song in rnb_playlist:\n",
    "    rnb_songs.append(song['track']['id'])\n",
    "    \n",
    "len(rnb_songs)"
   ]
  },
  {
   "cell_type": "code",
   "execution_count": 66,
   "id": "12b76111-ee4d-4603-9d82-c2fa21c3a435",
   "metadata": {
    "tags": []
   },
   "outputs": [
    {
     "data": {
      "text/plain": [
       "2"
      ]
     },
     "execution_count": 66,
     "metadata": {},
     "output_type": "execute_result"
    }
   ],
   "source": [
    "rnb_songs_chopped = [rnb_songs[i:i+chunk_size] for i in range(0,len(rnb_songs), 100)]\n",
    "\n",
    "len(rnb_songs_chopped)"
   ]
  },
  {
   "cell_type": "code",
   "execution_count": 97,
   "id": "85ea1b3d-bb98-4e70-ab34-bb56df8767d3",
   "metadata": {
    "tags": []
   },
   "outputs": [],
   "source": [
    "rnb_song_af = []\n",
    "\n",
    "for song in rnb_songs_chopped:\n",
    "    rnb_song_af.extend(sp.audio_features(song))\n",
    "\n",
    "rnb_df = pd.DataFrame(rnb_song_af)"
   ]
  },
  {
   "cell_type": "markdown",
   "id": "b0e9783d-8bbd-4029-b786-c42c4d6ebbdd",
   "metadata": {
    "tags": []
   },
   "source": [
    "### Hip hop playlist"
   ]
  },
  {
   "cell_type": "code",
   "execution_count": 41,
   "id": "0e0ca678",
   "metadata": {
    "tags": []
   },
   "outputs": [],
   "source": [
    "hiphop_playlist = get_playlist_tracks('Spotify', '37i9dQZF1DXbkfWVLd8wE3')"
   ]
  },
  {
   "cell_type": "code",
   "execution_count": 42,
   "id": "e1c78c88-a94f-430e-bae9-9140d5623d32",
   "metadata": {
    "tags": []
   },
   "outputs": [
    {
     "data": {
      "text/plain": [
       "90"
      ]
     },
     "execution_count": 42,
     "metadata": {},
     "output_type": "execute_result"
    }
   ],
   "source": [
    "hiphop_songs = []\n",
    "\n",
    "for song in hiphop_playlist:\n",
    "    hiphop_songs.append(song['track']['id'])\n",
    "    \n",
    "len(hiphop_songs)"
   ]
  },
  {
   "cell_type": "code",
   "execution_count": 78,
   "id": "71d9ff7d-df88-4f65-8c5b-29ef3a8672b8",
   "metadata": {
    "tags": []
   },
   "outputs": [],
   "source": [
    "hiphop_song_af = sp.audio_features(hiphop_songs)\n",
    "hiphop_df = pd.DataFrame(hiphop_song_af)  "
   ]
  },
  {
   "cell_type": "markdown",
   "id": "bee54c16-edb4-429d-be96-64ba212e0e43",
   "metadata": {
    "tags": []
   },
   "source": [
    "### blues playlist"
   ]
  },
  {
   "cell_type": "code",
   "execution_count": 43,
   "id": "3280675a",
   "metadata": {
    "tags": []
   },
   "outputs": [],
   "source": [
    "blues_playlist = get_playlist_tracks('Spotify', '37i9dQZF1DXd9rSDyQguIk')"
   ]
  },
  {
   "cell_type": "code",
   "execution_count": 44,
   "id": "de6cf0c0-11d6-4637-8697-1759247df18b",
   "metadata": {
    "tags": []
   },
   "outputs": [
    {
     "data": {
      "text/plain": [
       "70"
      ]
     },
     "execution_count": 44,
     "metadata": {},
     "output_type": "execute_result"
    }
   ],
   "source": [
    "blues_songs = []\n",
    "\n",
    "for song in blues_playlist:\n",
    "    blues_songs.append(song['track']['id'])\n",
    "    \n",
    "len(blues_songs)"
   ]
  },
  {
   "cell_type": "code",
   "execution_count": 80,
   "id": "e8efc5c9-2062-4dd9-ade4-6e57a0c40e88",
   "metadata": {
    "tags": []
   },
   "outputs": [],
   "source": [
    "blues_song_af = sp.audio_features(blues_songs)\n",
    "blues_df = pd.DataFrame(blues_song_af)"
   ]
  },
  {
   "cell_type": "markdown",
   "id": "5674afd6-62e1-4019-bb44-92d87d3e6632",
   "metadata": {
    "tags": []
   },
   "source": [
    "### Country playlist"
   ]
  },
  {
   "cell_type": "code",
   "execution_count": 8,
   "id": "1800c04d",
   "metadata": {
    "tags": []
   },
   "outputs": [],
   "source": [
    "country_playlist = get_playlist_tracks('Spotify', '37i9dQZF1EQmPV0vrce2QZ')"
   ]
  },
  {
   "cell_type": "code",
   "execution_count": 45,
   "id": "b1e53e06-9829-450d-82d9-d37e27b6e449",
   "metadata": {
    "tags": []
   },
   "outputs": [
    {
     "data": {
      "text/plain": [
       "50"
      ]
     },
     "execution_count": 45,
     "metadata": {},
     "output_type": "execute_result"
    }
   ],
   "source": [
    "country_songs = []\n",
    "\n",
    "for song in country_playlist:\n",
    "    country_songs.append(song['track']['id'])\n",
    "    \n",
    "len(country_songs)"
   ]
  },
  {
   "cell_type": "code",
   "execution_count": 81,
   "id": "4947e02a-7fc2-42f4-b269-e652eb8cbbc6",
   "metadata": {
    "tags": []
   },
   "outputs": [],
   "source": [
    "country_song_af = sp.audio_features(country_songs)\n",
    "country_df = pd.DataFrame(country_song_af)"
   ]
  },
  {
   "cell_type": "markdown",
   "id": "fabed0d1-435e-45e4-9df4-32c0ba726592",
   "metadata": {
    "tags": []
   },
   "source": [
    "### Electric playlist"
   ]
  },
  {
   "cell_type": "code",
   "execution_count": 48,
   "id": "9f0e2886-6d43-4694-90df-f2820e6ce529",
   "metadata": {
    "tags": []
   },
   "outputs": [],
   "source": [
    "electric_playlist = get_playlist_tracks('Spotify', '37i9dQZF1EIeZKM1YFAtwx')"
   ]
  },
  {
   "cell_type": "code",
   "execution_count": 49,
   "id": "3904e27e-7b0d-452d-86aa-49fbedce8bc6",
   "metadata": {
    "tags": []
   },
   "outputs": [
    {
     "data": {
      "text/plain": [
       "50"
      ]
     },
     "execution_count": 49,
     "metadata": {},
     "output_type": "execute_result"
    }
   ],
   "source": [
    "electric_songs = []\n",
    "\n",
    "for song in electric_playlist:\n",
    "    electric_songs.append(song['track']['id'])\n",
    "    \n",
    "len(electric_songs)"
   ]
  },
  {
   "cell_type": "code",
   "execution_count": 82,
   "id": "f62a10c0-5d9e-4545-b11d-72d383caacf9",
   "metadata": {
    "tags": []
   },
   "outputs": [],
   "source": [
    "electric_song_af = sp.audio_features(electric_songs)\n",
    "electric_df = pd.DataFrame(electric_song_af)"
   ]
  },
  {
   "cell_type": "markdown",
   "id": "de741120-4e9e-4c9e-b4d6-bf10e8d55d5d",
   "metadata": {
    "tags": []
   },
   "source": [
    "### Folk playlist"
   ]
  },
  {
   "cell_type": "code",
   "execution_count": 10,
   "id": "d9a77102-b4fe-4ada-917b-100cac8ea388",
   "metadata": {
    "tags": []
   },
   "outputs": [],
   "source": [
    "folk_playlist = get_playlist_tracks('Spotify', '37i9dQZF1EIe3texLXLRDS')"
   ]
  },
  {
   "cell_type": "code",
   "execution_count": 46,
   "id": "b514b19c-38dd-4122-a550-d8ae8368058b",
   "metadata": {
    "tags": []
   },
   "outputs": [
    {
     "data": {
      "text/plain": [
       "50"
      ]
     },
     "execution_count": 46,
     "metadata": {},
     "output_type": "execute_result"
    }
   ],
   "source": [
    "folk_songs = []\n",
    "\n",
    "for song in folk_playlist:\n",
    "    folk_songs.append(song['track']['id'])\n",
    "    \n",
    "len(folk_songs)"
   ]
  },
  {
   "cell_type": "code",
   "execution_count": 83,
   "id": "dd005c95-bc98-4fb4-88ce-a7f08c269543",
   "metadata": {
    "tags": []
   },
   "outputs": [],
   "source": [
    "folk_song_af = sp.audio_features(folk_songs)\n",
    "folk_df = pd.DataFrame(folk_song_af)"
   ]
  },
  {
   "cell_type": "markdown",
   "id": "9c13bc27-002f-4ed0-a6cf-0e8ea89abd48",
   "metadata": {
    "tags": []
   },
   "source": [
    "### Pop playlist"
   ]
  },
  {
   "cell_type": "code",
   "execution_count": 50,
   "id": "17c84fbd-9819-4ac7-8bb0-81e0ef96f1cc",
   "metadata": {
    "tags": []
   },
   "outputs": [],
   "source": [
    "pop_playlist = get_playlist_tracks('Spotify', '37i9dQZF1EQncLwOalG3K7')"
   ]
  },
  {
   "cell_type": "code",
   "execution_count": 52,
   "id": "9ff89cc2-07a5-474a-94e2-325df7034d70",
   "metadata": {
    "tags": []
   },
   "outputs": [
    {
     "data": {
      "text/plain": [
       "50"
      ]
     },
     "execution_count": 52,
     "metadata": {},
     "output_type": "execute_result"
    }
   ],
   "source": [
    "pop_songs = []\n",
    "\n",
    "for song in pop_playlist:\n",
    "    pop_songs.append(song['track']['id'])\n",
    "    \n",
    "len(pop_songs)"
   ]
  },
  {
   "cell_type": "code",
   "execution_count": 84,
   "id": "d8dcdee2-0dbf-45f7-a565-abc8a66db7aa",
   "metadata": {
    "tags": []
   },
   "outputs": [],
   "source": [
    "pop_song_af = sp.audio_features(pop_songs)\n",
    "pop_df = pd.DataFrame(pop_song_af)"
   ]
  },
  {
   "cell_type": "markdown",
   "id": "f706b8ea-6cb5-45b2-84de-cec0a120c253",
   "metadata": {
    "tags": []
   },
   "source": [
    "### Punk playlist"
   ]
  },
  {
   "cell_type": "code",
   "execution_count": 12,
   "id": "5dda5ffd-1d82-48b9-b7ab-782248d88aec",
   "metadata": {
    "tags": []
   },
   "outputs": [],
   "source": [
    "punk_playlist = get_playlist_tracks('Spotify', '37i9dQZF1EIfCD6nwYB5OF')"
   ]
  },
  {
   "cell_type": "code",
   "execution_count": 53,
   "id": "63ca3cbe-f2ee-4603-888c-98f4d5267965",
   "metadata": {
    "tags": []
   },
   "outputs": [
    {
     "data": {
      "text/plain": [
       "50"
      ]
     },
     "execution_count": 53,
     "metadata": {},
     "output_type": "execute_result"
    }
   ],
   "source": [
    "punk_songs = []\n",
    "\n",
    "for song in punk_playlist:\n",
    "    punk_songs.append(song['track']['id'])\n",
    "    \n",
    "len(punk_songs)"
   ]
  },
  {
   "cell_type": "code",
   "execution_count": 85,
   "id": "0ce4da11-cc1e-43fe-b7e1-a6aa6cceaa76",
   "metadata": {
    "tags": []
   },
   "outputs": [],
   "source": [
    "punk_song_af = sp.audio_features(punk_songs)\n",
    "punk_df = pd.DataFrame(punk_song_af)"
   ]
  },
  {
   "cell_type": "markdown",
   "id": "912c3a3d-12ea-4684-9529-6cdef16d06d2",
   "metadata": {
    "tags": []
   },
   "source": [
    "### Metal playlist"
   ]
  },
  {
   "cell_type": "code",
   "execution_count": 13,
   "id": "26a12aa4-1b61-4653-8429-5b67e4072a71",
   "metadata": {
    "tags": []
   },
   "outputs": [],
   "source": [
    "metal_playlist = get_playlist_tracks('Spotify', '37i9dQZF1EQpgT26jgbgRI')"
   ]
  },
  {
   "cell_type": "code",
   "execution_count": 54,
   "id": "30356593-a4f1-4b8e-b534-9bb03dc29f54",
   "metadata": {
    "tags": []
   },
   "outputs": [
    {
     "data": {
      "text/plain": [
       "50"
      ]
     },
     "execution_count": 54,
     "metadata": {},
     "output_type": "execute_result"
    }
   ],
   "source": [
    "metal_songs = []\n",
    "\n",
    "for song in metal_playlist:\n",
    "    metal_songs.append(song['track']['id'])\n",
    "    \n",
    "len(metal_songs)"
   ]
  },
  {
   "cell_type": "code",
   "execution_count": 86,
   "id": "3b85251b-3770-40a1-a8b6-4e918e6e35d9",
   "metadata": {
    "tags": []
   },
   "outputs": [],
   "source": [
    "metal_song_af = sp.audio_features(metal_songs)\n",
    "metal_df = pd.DataFrame(metal_song_af)"
   ]
  },
  {
   "cell_type": "markdown",
   "id": "3059db13-9675-4f5a-9ec4-e8006c6d0f63",
   "metadata": {
    "tags": []
   },
   "source": [
    "### Kpop playlist"
   ]
  },
  {
   "cell_type": "code",
   "execution_count": 16,
   "id": "0682fd9a-5515-49af-b5e3-ebc4f7d92b92",
   "metadata": {
    "tags": []
   },
   "outputs": [],
   "source": [
    "kpop_playlist = get_playlist_tracks('Spotify', '37i9dQZF1EQpesGsmIyqcW')"
   ]
  },
  {
   "cell_type": "code",
   "execution_count": 55,
   "id": "22ce7ca5-ebad-41ac-ae89-24e59bd3dbc4",
   "metadata": {
    "tags": []
   },
   "outputs": [
    {
     "data": {
      "text/plain": [
       "50"
      ]
     },
     "execution_count": 55,
     "metadata": {},
     "output_type": "execute_result"
    }
   ],
   "source": [
    "kpop_songs = []\n",
    "\n",
    "for song in kpop_playlist:\n",
    "    kpop_songs.append(song['track']['id'])\n",
    "    \n",
    "len(kpop_songs)"
   ]
  },
  {
   "cell_type": "code",
   "execution_count": 87,
   "id": "9e922194-13fb-4bfa-ba80-f8945394aa42",
   "metadata": {
    "tags": []
   },
   "outputs": [],
   "source": [
    "kpop_song_af = sp.audio_features(kpop_songs)\n",
    "kpop_df = pd.DataFrame(kpop_song_af)"
   ]
  },
  {
   "cell_type": "markdown",
   "id": "50f1b420-0a35-4969-b491-e671a67ff227",
   "metadata": {
    "tags": []
   },
   "source": [
    "### Jazz playlist"
   ]
  },
  {
   "cell_type": "code",
   "execution_count": 14,
   "id": "fe71ab8b-4197-484e-a551-9e50eb366bb6",
   "metadata": {
    "tags": []
   },
   "outputs": [],
   "source": [
    "jazz_playlist = get_playlist_tracks('Spotify', '37i9dQZF1DWZCkamcYMQkz')"
   ]
  },
  {
   "cell_type": "code",
   "execution_count": 56,
   "id": "dc434606-f089-49f0-bf04-25e45b7a847b",
   "metadata": {
    "tags": []
   },
   "outputs": [
    {
     "data": {
      "text/plain": [
       "100"
      ]
     },
     "execution_count": 56,
     "metadata": {},
     "output_type": "execute_result"
    }
   ],
   "source": [
    "jazz_songs = []\n",
    "\n",
    "for song in jazz_playlist:\n",
    "    jazz_songs.append(song['track']['id'])\n",
    "    \n",
    "len(jazz_songs)"
   ]
  },
  {
   "cell_type": "code",
   "execution_count": 88,
   "id": "6b0417fc-bbe5-495f-a505-29010d0f5554",
   "metadata": {
    "tags": []
   },
   "outputs": [],
   "source": [
    "jazz_song_af = sp.audio_features(jazz_songs)\n",
    "jazz_df = pd.DataFrame(jazz_song_af)"
   ]
  },
  {
   "cell_type": "markdown",
   "id": "fb8f4999-8e87-40e8-9188-b968ff8772f9",
   "metadata": {
    "tags": []
   },
   "source": [
    "### Classical playlist"
   ]
  },
  {
   "cell_type": "code",
   "execution_count": 15,
   "id": "defeeafe-3292-467c-8c7b-e2fe422f624a",
   "metadata": {
    "tags": []
   },
   "outputs": [],
   "source": [
    "classical_playlist = get_playlist_tracks('Spotify', '37i9dQZF1EIgLoMVUd9oTU')"
   ]
  },
  {
   "cell_type": "code",
   "execution_count": 57,
   "id": "476db7f7-2b98-4f73-af00-6f2882317c04",
   "metadata": {
    "tags": []
   },
   "outputs": [
    {
     "data": {
      "text/plain": [
       "50"
      ]
     },
     "execution_count": 57,
     "metadata": {},
     "output_type": "execute_result"
    }
   ],
   "source": [
    "classical_songs = []\n",
    "\n",
    "for song in classical_playlist:\n",
    "    classical_songs.append(song['track']['id'])\n",
    "    \n",
    "len(classical_songs)"
   ]
  },
  {
   "cell_type": "code",
   "execution_count": 89,
   "id": "11aed12c-47e4-4d3f-a6bc-0da47f1a1cd4",
   "metadata": {
    "tags": []
   },
   "outputs": [],
   "source": [
    "classical_song_af = sp.audio_features(classical_songs)\n",
    "classical_df = pd.DataFrame(classical_song_af)"
   ]
  },
  {
   "cell_type": "markdown",
   "id": "332fb72a-0503-4a41-87bd-ddc7b7364adc",
   "metadata": {
    "tags": []
   },
   "source": [
    "### Psychedelic playlist"
   ]
  },
  {
   "cell_type": "code",
   "execution_count": 17,
   "id": "85d89e41-201a-4663-9cc2-49870aa8e3d0",
   "metadata": {
    "tags": []
   },
   "outputs": [],
   "source": [
    "psychedelic_playlist = get_playlist_tracks('Spotify', '37i9dQZF1DWSDoVybeQisg')"
   ]
  },
  {
   "cell_type": "code",
   "execution_count": 58,
   "id": "4182d6b8-b74d-444b-8f74-47dd65cd746f",
   "metadata": {
    "tags": []
   },
   "outputs": [
    {
     "data": {
      "text/plain": [
       "75"
      ]
     },
     "execution_count": 58,
     "metadata": {},
     "output_type": "execute_result"
    }
   ],
   "source": [
    "psychedelic_songs = []\n",
    "\n",
    "for song in psychedelic_playlist:\n",
    "    psychedelic_songs.append(song['track']['id'])\n",
    "    \n",
    "len(psychedelic_songs)"
   ]
  },
  {
   "cell_type": "code",
   "execution_count": 90,
   "id": "a41dc5d6-49bb-484c-9936-a9fa6265ce19",
   "metadata": {
    "tags": []
   },
   "outputs": [],
   "source": [
    "psychedelic_song_af = sp.audio_features(psychedelic_songs)\n",
    "psychedelic_df = pd.DataFrame(psychedelic_song_af)"
   ]
  },
  {
   "cell_type": "markdown",
   "id": "916abcb1-6c08-4c7d-b436-75805d267370",
   "metadata": {
    "tags": []
   },
   "source": [
    "### Disco playlist"
   ]
  },
  {
   "cell_type": "code",
   "execution_count": 61,
   "id": "88cfcc06-3bb6-40ca-8fe0-365cb4e29b2a",
   "metadata": {
    "tags": []
   },
   "outputs": [],
   "source": [
    "disco_playlist = get_playlist_tracks('Spotify', '37i9dQZF1DX2GKumqRIZ7g')"
   ]
  },
  {
   "cell_type": "code",
   "execution_count": 62,
   "id": "ba177410-e3dd-4af9-95ee-3a058be46722",
   "metadata": {
    "tags": []
   },
   "outputs": [
    {
     "data": {
      "text/plain": [
       "50"
      ]
     },
     "execution_count": 62,
     "metadata": {},
     "output_type": "execute_result"
    }
   ],
   "source": [
    "disco_songs = []\n",
    "\n",
    "for song in disco_playlist:\n",
    "    disco_songs.append(song['track']['id'])\n",
    "    \n",
    "len(disco_songs)"
   ]
  },
  {
   "cell_type": "code",
   "execution_count": 91,
   "id": "f1d6ba16-04bc-4bd2-946e-03f8d16d1ac1",
   "metadata": {
    "tags": []
   },
   "outputs": [],
   "source": [
    "disco_song_af = sp.audio_features(disco_songs)\n",
    "disco_df = pd.DataFrame(disco_song_af)"
   ]
  },
  {
   "cell_type": "markdown",
   "id": "dbe609fc-5a4d-4fd6-943c-263a131c3c93",
   "metadata": {},
   "source": [
    "# concat everything\n"
   ]
  },
  {
   "cell_type": "code",
   "execution_count": 100,
   "id": "2e8fc97d-f5d3-46aa-9ac6-4a5e5b47330e",
   "metadata": {
    "tags": []
   },
   "outputs": [
    {
     "name": "stdout",
     "output_type": "stream",
     "text": [
      "<class 'pandas.core.frame.DataFrame'>\n",
      "Index: 1214 entries, 0 to 199\n",
      "Data columns (total 19 columns):\n",
      " #   Column            Non-Null Count  Dtype  \n",
      "---  ------            --------------  -----  \n",
      " 0   danceability      1213 non-null   float64\n",
      " 1   energy            1213 non-null   float64\n",
      " 2   key               1213 non-null   float64\n",
      " 3   loudness          1213 non-null   float64\n",
      " 4   mode              1213 non-null   float64\n",
      " 5   speechiness       1213 non-null   float64\n",
      " 6   acousticness      1213 non-null   float64\n",
      " 7   instrumentalness  1213 non-null   float64\n",
      " 8   liveness          1213 non-null   float64\n",
      " 9   valence           1213 non-null   float64\n",
      " 10  tempo             1213 non-null   float64\n",
      " 11  type              1213 non-null   object \n",
      " 12  id                1213 non-null   object \n",
      " 13  uri               1213 non-null   object \n",
      " 14  track_href        1213 non-null   object \n",
      " 15  analysis_url      1213 non-null   object \n",
      " 16  duration_ms       1213 non-null   float64\n",
      " 17  time_signature    1213 non-null   float64\n",
      " 18  0                 0 non-null      object \n",
      "dtypes: float64(13), object(6)\n",
      "memory usage: 189.7+ KB\n"
     ]
    }
   ],
   "source": [
    "pottify_df = pd.concat([disco_df, psychedelic_df, classical_df, jazz_df, kpop_df, metal_df, punk_df, pop_df, folk_df, electric_df, country_df, blues_df, hiphop_df, rnb_df, oldies_df, rock_df])\n",
    "pottify_df.info()"
   ]
  },
  {
   "cell_type": "markdown",
   "id": "657b050d-c56c-438e-8195-7517870f4dbc",
   "metadata": {},
   "source": [
    "# drop duplactes\n"
   ]
  },
  {
   "cell_type": "code",
   "execution_count": 104,
   "id": "2128cbb8-e846-4d77-b194-1caca5114730",
   "metadata": {
    "tags": []
   },
   "outputs": [
    {
     "name": "stdout",
     "output_type": "stream",
     "text": [
      "<class 'pandas.core.frame.DataFrame'>\n",
      "Index: 1195 entries, 0 to 199\n",
      "Data columns (total 19 columns):\n",
      " #   Column            Non-Null Count  Dtype  \n",
      "---  ------            --------------  -----  \n",
      " 0   danceability      1194 non-null   float64\n",
      " 1   energy            1194 non-null   float64\n",
      " 2   key               1194 non-null   float64\n",
      " 3   loudness          1194 non-null   float64\n",
      " 4   mode              1194 non-null   float64\n",
      " 5   speechiness       1194 non-null   float64\n",
      " 6   acousticness      1194 non-null   float64\n",
      " 7   instrumentalness  1194 non-null   float64\n",
      " 8   liveness          1194 non-null   float64\n",
      " 9   valence           1194 non-null   float64\n",
      " 10  tempo             1194 non-null   float64\n",
      " 11  type              1194 non-null   object \n",
      " 12  id                1194 non-null   object \n",
      " 13  uri               1194 non-null   object \n",
      " 14  track_href        1194 non-null   object \n",
      " 15  analysis_url      1194 non-null   object \n",
      " 16  duration_ms       1194 non-null   float64\n",
      " 17  time_signature    1194 non-null   float64\n",
      " 18  0                 0 non-null      object \n",
      "dtypes: float64(13), object(6)\n",
      "memory usage: 186.7+ KB\n"
     ]
    }
   ],
   "source": [
    "pottify_df.drop_duplicates(inplace=True)\n",
    "pottify_df.info()"
   ]
  },
  {
   "cell_type": "markdown",
   "id": "d38c29ce-a28a-4ced-86d6-d7a9be00d4a1",
   "metadata": {},
   "source": [
    "# save it to a csv so it doesn't have to reload"
   ]
  },
  {
   "cell_type": "code",
   "execution_count": 107,
   "id": "ff0c5ced-324c-4562-a154-05c857cabcbc",
   "metadata": {
    "tags": []
   },
   "outputs": [
    {
     "data": {
      "text/html": [
       "<a href='pottify_df.csv' target='_blank'>pottify_df.csv</a><br>"
      ],
      "text/plain": [
       "/Users/jilliangraham/Documents/GitHub/Jill_quests_IH/Pottify/pottify_df.csv"
      ]
     },
     "execution_count": 107,
     "metadata": {},
     "output_type": "execute_result"
    }
   ],
   "source": [
    "pottify_df.to_csv('pottify_df.csv', index=False)\n",
    "\n",
    "FileLink('pottify_df.csv')"
   ]
  }
 ],
 "metadata": {
  "kernelspec": {
   "display_name": "Python 3 (ipykernel)",
   "language": "python",
   "name": "python3"
  },
  "language_info": {
   "codemirror_mode": {
    "name": "ipython",
    "version": 3
   },
   "file_extension": ".py",
   "mimetype": "text/x-python",
   "name": "python",
   "nbconvert_exporter": "python",
   "pygments_lexer": "ipython3",
   "version": "3.11.5"
  }
 },
 "nbformat": 4,
 "nbformat_minor": 5
}
