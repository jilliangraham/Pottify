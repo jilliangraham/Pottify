{
 "cells": [
  {
   "cell_type": "code",
   "execution_count": 1,
   "id": "66236ad8-81ed-4e2c-8831-b4a9eefea89f",
   "metadata": {},
   "outputs": [],
   "source": [
    "#get your model\n",
    "##numerical variables (drop the ID etc. to train the model)\n",
    "##scale it\n",
    "##train kmeans (and pickle) \n",
    "## add a cluster column\n",
    "##concatinate with the original dataset so you have the ID\n",
    "\n",
    "#user inputs a song\n",
    "##search track ID\n",
    "##get audio features\n",
    "##scale\n",
    "#predict cluster\n",
    "##recommend a random song from the cluster\n",
    "\n",
    "#for the MLP, ideally you have a function song_recommender that takes finds whether a song is hot or not"
   ]
  },
  {
   "cell_type": "markdown",
   "id": "ca08afde-fefb-4780-aff9-40622c9addab",
   "metadata": {},
   "source": [
    "# import stuff"
   ]
  },
  {
   "cell_type": "code",
   "execution_count": 2,
   "id": "e4c9b2c0-1f56-443f-aeb3-52e4e2fb2ffa",
   "metadata": {
    "tags": []
   },
   "outputs": [],
   "source": [
    "import numpy as np\n",
    "import pandas as pd\n",
    "import pickle\n",
    "from sklearn import datasets # sklearn comes with some toy datasets to practice\n",
    "from sklearn.preprocessing import StandardScaler\n",
    "from sklearn.cluster import KMeans\n",
    "import matplotlib.pyplot as plt\n",
    "from sklearn.metrics import silhouette_score\n",
    "import pickle\n",
    "import numpy as np\n",
    "import matplotlib.pyplot as plt\n",
    "from IPython.display import display, FileLink\n"
   ]
  },
  {
   "cell_type": "code",
   "execution_count": 3,
   "id": "c555b8dd-9f8d-404b-a45e-d448cd487f31",
   "metadata": {
    "tags": []
   },
   "outputs": [
    {
     "name": "stdout",
     "output_type": "stream",
     "text": [
      "<class 'pandas.core.frame.DataFrame'>\n",
      "RangeIndex: 1195 entries, 0 to 1194\n",
      "Data columns (total 19 columns):\n",
      " #   Column            Non-Null Count  Dtype  \n",
      "---  ------            --------------  -----  \n",
      " 0   danceability      1194 non-null   float64\n",
      " 1   energy            1194 non-null   float64\n",
      " 2   key               1194 non-null   float64\n",
      " 3   loudness          1194 non-null   float64\n",
      " 4   mode              1194 non-null   float64\n",
      " 5   speechiness       1194 non-null   float64\n",
      " 6   acousticness      1194 non-null   float64\n",
      " 7   instrumentalness  1194 non-null   float64\n",
      " 8   liveness          1194 non-null   float64\n",
      " 9   valence           1194 non-null   float64\n",
      " 10  tempo             1194 non-null   float64\n",
      " 11  type              1194 non-null   object \n",
      " 12  id                1194 non-null   object \n",
      " 13  uri               1194 non-null   object \n",
      " 14  track_href        1194 non-null   object \n",
      " 15  analysis_url      1194 non-null   object \n",
      " 16  duration_ms       1194 non-null   float64\n",
      " 17  time_signature    1194 non-null   float64\n",
      " 18  0                 0 non-null      float64\n",
      "dtypes: float64(14), object(5)\n",
      "memory usage: 177.5+ KB\n"
     ]
    }
   ],
   "source": [
    "pottify_df = pd.read_csv('pottify_df.csv')\n",
    "pottify_df.info()"
   ]
  },
  {
   "cell_type": "code",
   "execution_count": 4,
   "id": "2790d6c0-1403-4d60-b196-b6c30a3b067b",
   "metadata": {
    "tags": []
   },
   "outputs": [
    {
     "name": "stdout",
     "output_type": "stream",
     "text": [
      "Null values in each column:\n",
      "danceability           1\n",
      "energy                 1\n",
      "key                    1\n",
      "loudness               1\n",
      "mode                   1\n",
      "speechiness            1\n",
      "acousticness           1\n",
      "instrumentalness       1\n",
      "liveness               1\n",
      "valence                1\n",
      "tempo                  1\n",
      "type                   1\n",
      "id                     1\n",
      "uri                    1\n",
      "track_href             1\n",
      "analysis_url           1\n",
      "duration_ms            1\n",
      "time_signature         1\n",
      "0                   1195\n",
      "dtype: int64\n",
      "There are null values in the DataFrame.\n"
     ]
    }
   ],
   "source": [
    "# Check for null values in each column\n",
    "null_values = pottify_df.isnull().sum()\n",
    "\n",
    "# Print or display the null values\n",
    "print(\"Null values in each column:\")\n",
    "print(null_values)\n",
    "\n",
    "# If you want to check if there are any null values in the entire DataFrame\n",
    "if pottify_df.isnull().values.any():\n",
    "    print(\"There are null values in the DataFrame.\")\n",
    "else:\n",
    "    print(\"There are no null values in the DataFrame.\")\n"
   ]
  },
  {
   "cell_type": "code",
   "execution_count": 5,
   "id": "87a7ad4a-359f-4e66-b88e-eb4586aaac21",
   "metadata": {
    "tags": []
   },
   "outputs": [
    {
     "name": "stdout",
     "output_type": "stream",
     "text": [
      "<class 'pandas.core.frame.DataFrame'>\n",
      "RangeIndex: 1195 entries, 0 to 1194\n",
      "Data columns (total 11 columns):\n",
      " #   Column            Non-Null Count  Dtype  \n",
      "---  ------            --------------  -----  \n",
      " 0   danceability      1194 non-null   float64\n",
      " 1   energy            1194 non-null   float64\n",
      " 2   key               1194 non-null   float64\n",
      " 3   loudness          1194 non-null   float64\n",
      " 4   mode              1194 non-null   float64\n",
      " 5   speechiness       1194 non-null   float64\n",
      " 6   acousticness      1194 non-null   float64\n",
      " 7   instrumentalness  1194 non-null   float64\n",
      " 8   liveness          1194 non-null   float64\n",
      " 9   valence           1194 non-null   float64\n",
      " 10  tempo             1194 non-null   float64\n",
      "dtypes: float64(11)\n",
      "memory usage: 102.8 KB\n"
     ]
    }
   ],
   "source": [
    "pottify_df_clustering = pottify_df.drop(columns=['type', 'id', 'uri', 'track_href', 'analysis_url', 'duration_ms', 'time_signature', '0'])\n",
    "pottify_df_clustering.reset_index(drop=True, inplace=True)\n",
    "pottify_df_clustering.info()"
   ]
  },
  {
   "cell_type": "code",
   "execution_count": 6,
   "id": "fd7b2095-83f6-4b69-a314-e98fa42f3170",
   "metadata": {
    "tags": []
   },
   "outputs": [],
   "source": [
    "# Drop null values from all columns\n",
    "pottify_df_clustering = pottify_df_clustering.dropna()\n",
    "pottify_df_clustering.reset_index(drop=True, inplace=True)"
   ]
  },
  {
   "cell_type": "code",
   "execution_count": 7,
   "id": "77be2df9-84ff-4e1d-8f90-9620b94ad9bc",
   "metadata": {
    "tags": []
   },
   "outputs": [
    {
     "name": "stdout",
     "output_type": "stream",
     "text": [
      "Null values in each column:\n",
      "danceability        0\n",
      "energy              0\n",
      "key                 0\n",
      "loudness            0\n",
      "mode                0\n",
      "speechiness         0\n",
      "acousticness        0\n",
      "instrumentalness    0\n",
      "liveness            0\n",
      "valence             0\n",
      "tempo               0\n",
      "dtype: int64\n",
      "There are no null values in the DataFrame.\n"
     ]
    }
   ],
   "source": [
    "# Check for null values in each column\n",
    "null_values = pottify_df_clustering.isnull().sum()\n",
    "\n",
    "# Print or display the null values\n",
    "print(\"Null values in each column:\")\n",
    "print(null_values)\n",
    "\n",
    "# If you want to check if there are any null values in the entire DataFrame\n",
    "if pottify_df_clustering.isnull().values.any():\n",
    "    print(\"There are null values in the DataFrame.\")\n",
    "else:\n",
    "    print(\"There are no null values in the DataFrame.\")\n"
   ]
  },
  {
   "cell_type": "code",
   "execution_count": 8,
   "id": "e436b69b-5e55-4026-8bee-57f67772f41f",
   "metadata": {},
   "outputs": [],
   "source": [
    "scaler = StandardScaler()\n",
    "scaler.fit(pottify_df_clustering)\n",
    "X_scaled = scaler.transform(pottify_df_clustering)\n",
    "X_scaled_pottify_df_clustering = pd.DataFrame(X_scaled, columns=pottify_df_clustering.columns)"
   ]
  },
  {
   "cell_type": "code",
   "execution_count": 9,
   "id": "1b8d37eb-26a7-4f63-bc67-f8079efc7abb",
   "metadata": {},
   "outputs": [
    {
     "name": "stderr",
     "output_type": "stream",
     "text": [
      "/Users/jilliangraham/anaconda3/lib/python3.11/site-packages/sklearn/cluster/_kmeans.py:1412: FutureWarning: The default value of `n_init` will change from 10 to 'auto' in 1.4. Set the value of `n_init` explicitly to suppress the warning\n",
      "  super()._check_params_vs_input(X, default_n_init=10)\n"
     ]
    },
    {
     "data": {
      "text/html": [
       "<style>#sk-container-id-1 {color: black;}#sk-container-id-1 pre{padding: 0;}#sk-container-id-1 div.sk-toggleable {background-color: white;}#sk-container-id-1 label.sk-toggleable__label {cursor: pointer;display: block;width: 100%;margin-bottom: 0;padding: 0.3em;box-sizing: border-box;text-align: center;}#sk-container-id-1 label.sk-toggleable__label-arrow:before {content: \"▸\";float: left;margin-right: 0.25em;color: #696969;}#sk-container-id-1 label.sk-toggleable__label-arrow:hover:before {color: black;}#sk-container-id-1 div.sk-estimator:hover label.sk-toggleable__label-arrow:before {color: black;}#sk-container-id-1 div.sk-toggleable__content {max-height: 0;max-width: 0;overflow: hidden;text-align: left;background-color: #f0f8ff;}#sk-container-id-1 div.sk-toggleable__content pre {margin: 0.2em;color: black;border-radius: 0.25em;background-color: #f0f8ff;}#sk-container-id-1 input.sk-toggleable__control:checked~div.sk-toggleable__content {max-height: 200px;max-width: 100%;overflow: auto;}#sk-container-id-1 input.sk-toggleable__control:checked~label.sk-toggleable__label-arrow:before {content: \"▾\";}#sk-container-id-1 div.sk-estimator input.sk-toggleable__control:checked~label.sk-toggleable__label {background-color: #d4ebff;}#sk-container-id-1 div.sk-label input.sk-toggleable__control:checked~label.sk-toggleable__label {background-color: #d4ebff;}#sk-container-id-1 input.sk-hidden--visually {border: 0;clip: rect(1px 1px 1px 1px);clip: rect(1px, 1px, 1px, 1px);height: 1px;margin: -1px;overflow: hidden;padding: 0;position: absolute;width: 1px;}#sk-container-id-1 div.sk-estimator {font-family: monospace;background-color: #f0f8ff;border: 1px dotted black;border-radius: 0.25em;box-sizing: border-box;margin-bottom: 0.5em;}#sk-container-id-1 div.sk-estimator:hover {background-color: #d4ebff;}#sk-container-id-1 div.sk-parallel-item::after {content: \"\";width: 100%;border-bottom: 1px solid gray;flex-grow: 1;}#sk-container-id-1 div.sk-label:hover label.sk-toggleable__label {background-color: #d4ebff;}#sk-container-id-1 div.sk-serial::before {content: \"\";position: absolute;border-left: 1px solid gray;box-sizing: border-box;top: 0;bottom: 0;left: 50%;z-index: 0;}#sk-container-id-1 div.sk-serial {display: flex;flex-direction: column;align-items: center;background-color: white;padding-right: 0.2em;padding-left: 0.2em;position: relative;}#sk-container-id-1 div.sk-item {position: relative;z-index: 1;}#sk-container-id-1 div.sk-parallel {display: flex;align-items: stretch;justify-content: center;background-color: white;position: relative;}#sk-container-id-1 div.sk-item::before, #sk-container-id-1 div.sk-parallel-item::before {content: \"\";position: absolute;border-left: 1px solid gray;box-sizing: border-box;top: 0;bottom: 0;left: 50%;z-index: -1;}#sk-container-id-1 div.sk-parallel-item {display: flex;flex-direction: column;z-index: 1;position: relative;background-color: white;}#sk-container-id-1 div.sk-parallel-item:first-child::after {align-self: flex-end;width: 50%;}#sk-container-id-1 div.sk-parallel-item:last-child::after {align-self: flex-start;width: 50%;}#sk-container-id-1 div.sk-parallel-item:only-child::after {width: 0;}#sk-container-id-1 div.sk-dashed-wrapped {border: 1px dashed gray;margin: 0 0.4em 0.5em 0.4em;box-sizing: border-box;padding-bottom: 0.4em;background-color: white;}#sk-container-id-1 div.sk-label label {font-family: monospace;font-weight: bold;display: inline-block;line-height: 1.2em;}#sk-container-id-1 div.sk-label-container {text-align: center;}#sk-container-id-1 div.sk-container {/* jupyter's `normalize.less` sets `[hidden] { display: none; }` but bootstrap.min.css set `[hidden] { display: none !important; }` so we also need the `!important` here to be able to override the default hidden behavior on the sphinx rendered scikit-learn.org. See: https://github.com/scikit-learn/scikit-learn/issues/21755 */display: inline-block !important;position: relative;}#sk-container-id-1 div.sk-text-repr-fallback {display: none;}</style><div id=\"sk-container-id-1\" class=\"sk-top-container\"><div class=\"sk-text-repr-fallback\"><pre>KMeans(n_clusters=14, random_state=1234)</pre><b>In a Jupyter environment, please rerun this cell to show the HTML representation or trust the notebook. <br />On GitHub, the HTML representation is unable to render, please try loading this page with nbviewer.org.</b></div><div class=\"sk-container\" hidden><div class=\"sk-item\"><div class=\"sk-estimator sk-toggleable\"><input class=\"sk-toggleable__control sk-hidden--visually\" id=\"sk-estimator-id-1\" type=\"checkbox\" checked><label for=\"sk-estimator-id-1\" class=\"sk-toggleable__label sk-toggleable__label-arrow\">KMeans</label><div class=\"sk-toggleable__content\"><pre>KMeans(n_clusters=14, random_state=1234)</pre></div></div></div></div></div>"
      ],
      "text/plain": [
       "KMeans(n_clusters=14, random_state=1234)"
      ]
     },
     "execution_count": 9,
     "metadata": {},
     "output_type": "execute_result"
    }
   ],
   "source": [
    "kmeans = KMeans(n_clusters=14, random_state=1234)\n",
    "kmeans.fit(X_scaled_pottify_df_clustering)"
   ]
  },
  {
   "cell_type": "code",
   "execution_count": 10,
   "id": "f59481ca-cf2b-4aed-a2b7-43eab4318f76",
   "metadata": {},
   "outputs": [
    {
     "data": {
      "text/plain": [
       "0      88\n",
       "1     118\n",
       "2      47\n",
       "3     153\n",
       "4      69\n",
       "5     125\n",
       "6      36\n",
       "7      81\n",
       "8      50\n",
       "9      93\n",
       "10    103\n",
       "11    116\n",
       "12     57\n",
       "13     58\n",
       "Name: count, dtype: int64"
      ]
     },
     "execution_count": 10,
     "metadata": {},
     "output_type": "execute_result"
    }
   ],
   "source": [
    "clusters = kmeans.predict(X_scaled_pottify_df_clustering)\n",
    "#clusters\n",
    "pd.Series(clusters).value_counts().sort_index()"
   ]
  },
  {
   "cell_type": "code",
   "execution_count": 11,
   "id": "78e60b3e-00f0-417b-a05b-e5fc4c5d33a4",
   "metadata": {},
   "outputs": [
    {
     "data": {
      "text/html": [
       "<div>\n",
       "<style scoped>\n",
       "    .dataframe tbody tr th:only-of-type {\n",
       "        vertical-align: middle;\n",
       "    }\n",
       "\n",
       "    .dataframe tbody tr th {\n",
       "        vertical-align: top;\n",
       "    }\n",
       "\n",
       "    .dataframe thead th {\n",
       "        text-align: right;\n",
       "    }\n",
       "</style>\n",
       "<table border=\"1\" class=\"dataframe\">\n",
       "  <thead>\n",
       "    <tr style=\"text-align: right;\">\n",
       "      <th></th>\n",
       "      <th>danceability</th>\n",
       "      <th>energy</th>\n",
       "      <th>key</th>\n",
       "      <th>loudness</th>\n",
       "      <th>mode</th>\n",
       "      <th>speechiness</th>\n",
       "      <th>acousticness</th>\n",
       "      <th>instrumentalness</th>\n",
       "      <th>liveness</th>\n",
       "      <th>valence</th>\n",
       "      <th>tempo</th>\n",
       "      <th>cluster</th>\n",
       "    </tr>\n",
       "  </thead>\n",
       "  <tbody>\n",
       "    <tr>\n",
       "      <th>0</th>\n",
       "      <td>0.629</td>\n",
       "      <td>0.851</td>\n",
       "      <td>5.0</td>\n",
       "      <td>-11.182</td>\n",
       "      <td>0.0</td>\n",
       "      <td>0.0294</td>\n",
       "      <td>0.03090</td>\n",
       "      <td>0.303000</td>\n",
       "      <td>0.0947</td>\n",
       "      <td>0.961</td>\n",
       "      <td>130.700</td>\n",
       "      <td>5</td>\n",
       "    </tr>\n",
       "    <tr>\n",
       "      <th>1</th>\n",
       "      <td>0.796</td>\n",
       "      <td>0.892</td>\n",
       "      <td>0.0</td>\n",
       "      <td>-8.310</td>\n",
       "      <td>1.0</td>\n",
       "      <td>0.0333</td>\n",
       "      <td>0.00475</td>\n",
       "      <td>0.018700</td>\n",
       "      <td>0.0717</td>\n",
       "      <td>0.965</td>\n",
       "      <td>120.400</td>\n",
       "      <td>3</td>\n",
       "    </tr>\n",
       "    <tr>\n",
       "      <th>2</th>\n",
       "      <td>0.733</td>\n",
       "      <td>0.795</td>\n",
       "      <td>1.0</td>\n",
       "      <td>-7.224</td>\n",
       "      <td>0.0</td>\n",
       "      <td>0.0249</td>\n",
       "      <td>0.02660</td>\n",
       "      <td>0.000948</td>\n",
       "      <td>0.0830</td>\n",
       "      <td>0.892</td>\n",
       "      <td>109.122</td>\n",
       "      <td>5</td>\n",
       "    </tr>\n",
       "    <tr>\n",
       "      <th>3</th>\n",
       "      <td>0.781</td>\n",
       "      <td>0.556</td>\n",
       "      <td>5.0</td>\n",
       "      <td>-13.067</td>\n",
       "      <td>0.0</td>\n",
       "      <td>0.0611</td>\n",
       "      <td>0.06610</td>\n",
       "      <td>0.090700</td>\n",
       "      <td>0.0339</td>\n",
       "      <td>0.968</td>\n",
       "      <td>125.999</td>\n",
       "      <td>5</td>\n",
       "    </tr>\n",
       "    <tr>\n",
       "      <th>4</th>\n",
       "      <td>0.910</td>\n",
       "      <td>0.641</td>\n",
       "      <td>7.0</td>\n",
       "      <td>-11.316</td>\n",
       "      <td>1.0</td>\n",
       "      <td>0.0589</td>\n",
       "      <td>0.02580</td>\n",
       "      <td>0.000064</td>\n",
       "      <td>0.0642</td>\n",
       "      <td>0.903</td>\n",
       "      <td>118.533</td>\n",
       "      <td>1</td>\n",
       "    </tr>\n",
       "    <tr>\n",
       "      <th>...</th>\n",
       "      <td>...</td>\n",
       "      <td>...</td>\n",
       "      <td>...</td>\n",
       "      <td>...</td>\n",
       "      <td>...</td>\n",
       "      <td>...</td>\n",
       "      <td>...</td>\n",
       "      <td>...</td>\n",
       "      <td>...</td>\n",
       "      <td>...</td>\n",
       "      <td>...</td>\n",
       "      <td>...</td>\n",
       "    </tr>\n",
       "    <tr>\n",
       "      <th>1189</th>\n",
       "      <td>0.595</td>\n",
       "      <td>0.996</td>\n",
       "      <td>2.0</td>\n",
       "      <td>-3.418</td>\n",
       "      <td>1.0</td>\n",
       "      <td>0.0599</td>\n",
       "      <td>0.19500</td>\n",
       "      <td>0.034500</td>\n",
       "      <td>0.0351</td>\n",
       "      <td>0.376</td>\n",
       "      <td>152.049</td>\n",
       "      <td>10</td>\n",
       "    </tr>\n",
       "    <tr>\n",
       "      <th>1190</th>\n",
       "      <td>0.615</td>\n",
       "      <td>0.910</td>\n",
       "      <td>11.0</td>\n",
       "      <td>-4.248</td>\n",
       "      <td>1.0</td>\n",
       "      <td>0.0347</td>\n",
       "      <td>0.50000</td>\n",
       "      <td>0.511000</td>\n",
       "      <td>0.2810</td>\n",
       "      <td>0.770</td>\n",
       "      <td>111.013</td>\n",
       "      <td>1</td>\n",
       "    </tr>\n",
       "    <tr>\n",
       "      <th>1191</th>\n",
       "      <td>0.532</td>\n",
       "      <td>0.767</td>\n",
       "      <td>7.0</td>\n",
       "      <td>-5.509</td>\n",
       "      <td>1.0</td>\n",
       "      <td>0.0574</td>\n",
       "      <td>0.00287</td>\n",
       "      <td>0.000513</td>\n",
       "      <td>0.3900</td>\n",
       "      <td>0.755</td>\n",
       "      <td>127.361</td>\n",
       "      <td>1</td>\n",
       "    </tr>\n",
       "    <tr>\n",
       "      <th>1192</th>\n",
       "      <td>0.464</td>\n",
       "      <td>0.655</td>\n",
       "      <td>7.0</td>\n",
       "      <td>-9.058</td>\n",
       "      <td>0.0</td>\n",
       "      <td>0.0608</td>\n",
       "      <td>0.02720</td>\n",
       "      <td>0.000001</td>\n",
       "      <td>0.3280</td>\n",
       "      <td>0.531</td>\n",
       "      <td>169.515</td>\n",
       "      <td>4</td>\n",
       "    </tr>\n",
       "    <tr>\n",
       "      <th>1193</th>\n",
       "      <td>0.730</td>\n",
       "      <td>0.487</td>\n",
       "      <td>4.0</td>\n",
       "      <td>-10.991</td>\n",
       "      <td>1.0</td>\n",
       "      <td>0.0303</td>\n",
       "      <td>0.25800</td>\n",
       "      <td>0.010000</td>\n",
       "      <td>0.0852</td>\n",
       "      <td>0.731</td>\n",
       "      <td>114.965</td>\n",
       "      <td>3</td>\n",
       "    </tr>\n",
       "  </tbody>\n",
       "</table>\n",
       "<p>1194 rows × 12 columns</p>\n",
       "</div>"
      ],
      "text/plain": [
       "      danceability  energy   key  loudness  mode  speechiness  acousticness  \\\n",
       "0            0.629   0.851   5.0   -11.182   0.0       0.0294       0.03090   \n",
       "1            0.796   0.892   0.0    -8.310   1.0       0.0333       0.00475   \n",
       "2            0.733   0.795   1.0    -7.224   0.0       0.0249       0.02660   \n",
       "3            0.781   0.556   5.0   -13.067   0.0       0.0611       0.06610   \n",
       "4            0.910   0.641   7.0   -11.316   1.0       0.0589       0.02580   \n",
       "...            ...     ...   ...       ...   ...          ...           ...   \n",
       "1189         0.595   0.996   2.0    -3.418   1.0       0.0599       0.19500   \n",
       "1190         0.615   0.910  11.0    -4.248   1.0       0.0347       0.50000   \n",
       "1191         0.532   0.767   7.0    -5.509   1.0       0.0574       0.00287   \n",
       "1192         0.464   0.655   7.0    -9.058   0.0       0.0608       0.02720   \n",
       "1193         0.730   0.487   4.0   -10.991   1.0       0.0303       0.25800   \n",
       "\n",
       "      instrumentalness  liveness  valence    tempo  cluster  \n",
       "0             0.303000    0.0947    0.961  130.700        5  \n",
       "1             0.018700    0.0717    0.965  120.400        3  \n",
       "2             0.000948    0.0830    0.892  109.122        5  \n",
       "3             0.090700    0.0339    0.968  125.999        5  \n",
       "4             0.000064    0.0642    0.903  118.533        1  \n",
       "...                ...       ...      ...      ...      ...  \n",
       "1189          0.034500    0.0351    0.376  152.049       10  \n",
       "1190          0.511000    0.2810    0.770  111.013        1  \n",
       "1191          0.000513    0.3900    0.755  127.361        1  \n",
       "1192          0.000001    0.3280    0.531  169.515        4  \n",
       "1193          0.010000    0.0852    0.731  114.965        3  \n",
       "\n",
       "[1194 rows x 12 columns]"
      ]
     },
     "execution_count": 11,
     "metadata": {},
     "output_type": "execute_result"
    }
   ],
   "source": [
    "#X_df = pd.DataFrame(X)\n",
    "pottify_df_clustering[\"cluster\"] = clusters\n",
    "pottify_df_clustering"
   ]
  },
  {
   "cell_type": "code",
   "execution_count": 12,
   "id": "d4379e5f-5df6-41c2-b428-d9c57af82c38",
   "metadata": {},
   "outputs": [
    {
     "name": "stdout",
     "output_type": "stream",
     "text": [
      "<class 'pandas.core.frame.DataFrame'>\n",
      "RangeIndex: 1195 entries, 0 to 1194\n",
      "Data columns (total 13 columns):\n",
      " #   Column            Non-Null Count  Dtype  \n",
      "---  ------            --------------  -----  \n",
      " 0   danceability      1194 non-null   float64\n",
      " 1   energy            1194 non-null   float64\n",
      " 2   key               1194 non-null   float64\n",
      " 3   loudness          1194 non-null   float64\n",
      " 4   mode              1194 non-null   float64\n",
      " 5   speechiness       1194 non-null   float64\n",
      " 6   acousticness      1194 non-null   float64\n",
      " 7   instrumentalness  1194 non-null   float64\n",
      " 8   liveness          1194 non-null   float64\n",
      " 9   valence           1194 non-null   float64\n",
      " 10  tempo             1194 non-null   float64\n",
      " 11  cluster           1194 non-null   float64\n",
      " 12  id                1194 non-null   object \n",
      "dtypes: float64(12), object(1)\n",
      "memory usage: 121.5+ KB\n"
     ]
    }
   ],
   "source": [
    "#add the id columns from pottify_df\n",
    "id_column = pottify_df['id']\n",
    "\n",
    "# Concatenating the \"ID\" column to pottify_df_clustered\n",
    "pottify_df_clustered = pd.concat([pottify_df_clustering, id_column], axis=1)\n",
    "\n",
    "pottify_df_clustered.info()\n"
   ]
  },
  {
   "cell_type": "code",
   "execution_count": 13,
   "id": "6d1fdd0d-be18-4f57-b50d-48b05393eccd",
   "metadata": {
    "tags": []
   },
   "outputs": [
    {
     "name": "stdout",
     "output_type": "stream",
     "text": [
      "Null values in each column:\n",
      "danceability        1\n",
      "energy              1\n",
      "key                 1\n",
      "loudness            1\n",
      "mode                1\n",
      "speechiness         1\n",
      "acousticness        1\n",
      "instrumentalness    1\n",
      "liveness            1\n",
      "valence             1\n",
      "tempo               1\n",
      "cluster             1\n",
      "id                  1\n",
      "dtype: int64\n",
      "There are null values in the DataFrame.\n"
     ]
    }
   ],
   "source": [
    "pottify_df_clustered\n",
    "\n",
    "# Check for null values in each column\n",
    "null_values = pottify_df_clustered.isnull().sum()\n",
    "\n",
    "# Print or display the null values\n",
    "print(\"Null values in each column:\")\n",
    "print(null_values)\n",
    "\n",
    "# If you want to check if there are any null values in the entire DataFrame\n",
    "if pottify_df_clustered.isnull().values.any():\n",
    "    print(\"There are null values in the DataFrame.\")\n",
    "else:\n",
    "    print(\"There are no null values in the DataFrame.\")"
   ]
  },
  {
   "cell_type": "code",
   "execution_count": 14,
   "id": "6457a890-164d-4027-8d68-33ef9f362b9f",
   "metadata": {
    "tags": []
   },
   "outputs": [],
   "source": [
    "pottify_df_clustered.dropna(inplace = True)"
   ]
  },
  {
   "cell_type": "code",
   "execution_count": 15,
   "id": "511e1496-cfa4-4fc1-b582-ef20baa41c9b",
   "metadata": {
    "tags": []
   },
   "outputs": [
    {
     "name": "stdout",
     "output_type": "stream",
     "text": [
      "<class 'pandas.core.frame.DataFrame'>\n",
      "Index: 1193 entries, 0 to 1193\n",
      "Data columns (total 13 columns):\n",
      " #   Column            Non-Null Count  Dtype  \n",
      "---  ------            --------------  -----  \n",
      " 0   danceability      1193 non-null   float64\n",
      " 1   energy            1193 non-null   float64\n",
      " 2   key               1193 non-null   float64\n",
      " 3   loudness          1193 non-null   float64\n",
      " 4   mode              1193 non-null   float64\n",
      " 5   speechiness       1193 non-null   float64\n",
      " 6   acousticness      1193 non-null   float64\n",
      " 7   instrumentalness  1193 non-null   float64\n",
      " 8   liveness          1193 non-null   float64\n",
      " 9   valence           1193 non-null   float64\n",
      " 10  tempo             1193 non-null   float64\n",
      " 11  cluster           1193 non-null   float64\n",
      " 12  id                1193 non-null   object \n",
      "dtypes: float64(12), object(1)\n",
      "memory usage: 130.5+ KB\n"
     ]
    }
   ],
   "source": [
    "pottify_df_clustered.info()"
   ]
  },
  {
   "cell_type": "code",
   "execution_count": 16,
   "id": "e17669cb-b35f-4164-9fb2-3add9a8fac40",
   "metadata": {
    "tags": []
   },
   "outputs": [
    {
     "name": "stdout",
     "output_type": "stream",
     "text": [
      "Null values in each column:\n",
      "danceability        0\n",
      "energy              0\n",
      "key                 0\n",
      "loudness            0\n",
      "mode                0\n",
      "speechiness         0\n",
      "acousticness        0\n",
      "instrumentalness    0\n",
      "liveness            0\n",
      "valence             0\n",
      "tempo               0\n",
      "cluster             0\n",
      "id                  0\n",
      "dtype: int64\n",
      "There are no null values in the DataFrame.\n"
     ]
    }
   ],
   "source": [
    "# Check for null values in each column\n",
    "null_values = pottify_df_clustered.isnull().sum()\n",
    "\n",
    "# Print or display the null values\n",
    "print(\"Null values in each column:\")\n",
    "print(null_values)\n",
    "\n",
    "# If you want to check if there are any null values in the entire DataFrame\n",
    "if pottify_df_clustered.isnull().values.any():\n",
    "    print(\"There are null values in the DataFrame.\")\n",
    "else:\n",
    "    print(\"There are no null values in the DataFrame.\")"
   ]
  },
  {
   "cell_type": "code",
   "execution_count": 17,
   "id": "27c70377-2621-4a4f-997c-a73a4034f590",
   "metadata": {
    "tags": []
   },
   "outputs": [
    {
     "data": {
      "text/html": [
       "<a href='pottify_df_clustered.csv' target='_blank'>pottify_df_clustered.csv</a><br>"
      ],
      "text/plain": [
       "/Users/jilliangraham/Documents/GitHub/Jill_quests_IH/Pottify/pottify_df_clustered.csv"
      ]
     },
     "execution_count": 17,
     "metadata": {},
     "output_type": "execute_result"
    }
   ],
   "source": [
    "pottify_df_clustered.to_csv('pottify_df_clustered.csv', index=False)\n",
    "\n",
    "FileLink('pottify_df_clustered.csv')"
   ]
  },
  {
   "cell_type": "code",
   "execution_count": 18,
   "id": "ea605e03-c067-4a5b-960a-8a686c16e943",
   "metadata": {},
   "outputs": [
    {
     "data": {
      "text/plain": [
       "5466.500115131335"
      ]
     },
     "execution_count": 18,
     "metadata": {},
     "output_type": "execute_result"
    }
   ],
   "source": [
    "kmeans.inertia_"
   ]
  },
  {
   "cell_type": "code",
   "execution_count": 19,
   "id": "d7bac9ef-7efe-4e76-b6be-cb80137ea717",
   "metadata": {
    "tags": []
   },
   "outputs": [
    {
     "name": "stdout",
     "output_type": "stream",
     "text": [
      "6252.531781312854\n"
     ]
    }
   ],
   "source": [
    "kmeans2 = KMeans(n_clusters=10,\n",
    "                init=\"k-means++\",\n",
    "                n_init=10,  # try with 1, 4, 8, 20, 30, 100...\n",
    "                max_iter=5,\n",
    "                algorithm=\"elkan\",\n",
    "                random_state=1234)\n",
    "kmeans2.fit(X_scaled_pottify_df_clustering)\n",
    "print(kmeans2.inertia_)"
   ]
  },
  {
   "cell_type": "code",
   "execution_count": 20,
   "id": "00e5c711-153b-4978-be4a-52ac2e19d73f",
   "metadata": {
    "tags": []
   },
   "outputs": [
    {
     "name": "stdout",
     "output_type": "stream",
     "text": [
      "Training a K-Means model with 2 clusters! \n",
      "\n",
      "Training a K-Means model with 3 clusters! \n",
      "\n"
     ]
    },
    {
     "name": "stderr",
     "output_type": "stream",
     "text": [
      "/Users/jilliangraham/anaconda3/lib/python3.11/site-packages/sklearn/cluster/_kmeans.py:1412: FutureWarning: The default value of `n_init` will change from 10 to 'auto' in 1.4. Set the value of `n_init` explicitly to suppress the warning\n",
      "  super()._check_params_vs_input(X, default_n_init=10)\n",
      "/Users/jilliangraham/anaconda3/lib/python3.11/site-packages/sklearn/cluster/_kmeans.py:1412: FutureWarning: The default value of `n_init` will change from 10 to 'auto' in 1.4. Set the value of `n_init` explicitly to suppress the warning\n",
      "  super()._check_params_vs_input(X, default_n_init=10)\n"
     ]
    },
    {
     "name": "stdout",
     "output_type": "stream",
     "text": [
      "Training a K-Means model with 4 clusters! \n",
      "\n",
      "Training a K-Means model with 5 clusters! \n",
      "\n"
     ]
    },
    {
     "name": "stderr",
     "output_type": "stream",
     "text": [
      "/Users/jilliangraham/anaconda3/lib/python3.11/site-packages/sklearn/cluster/_kmeans.py:1412: FutureWarning: The default value of `n_init` will change from 10 to 'auto' in 1.4. Set the value of `n_init` explicitly to suppress the warning\n",
      "  super()._check_params_vs_input(X, default_n_init=10)\n",
      "/Users/jilliangraham/anaconda3/lib/python3.11/site-packages/sklearn/cluster/_kmeans.py:1412: FutureWarning: The default value of `n_init` will change from 10 to 'auto' in 1.4. Set the value of `n_init` explicitly to suppress the warning\n",
      "  super()._check_params_vs_input(X, default_n_init=10)\n"
     ]
    },
    {
     "name": "stdout",
     "output_type": "stream",
     "text": [
      "Training a K-Means model with 6 clusters! \n",
      "\n",
      "Training a K-Means model with 7 clusters! \n",
      "\n",
      "Training a K-Means model with 8 clusters! \n",
      "\n"
     ]
    },
    {
     "name": "stderr",
     "output_type": "stream",
     "text": [
      "/Users/jilliangraham/anaconda3/lib/python3.11/site-packages/sklearn/cluster/_kmeans.py:1412: FutureWarning: The default value of `n_init` will change from 10 to 'auto' in 1.4. Set the value of `n_init` explicitly to suppress the warning\n",
      "  super()._check_params_vs_input(X, default_n_init=10)\n",
      "/Users/jilliangraham/anaconda3/lib/python3.11/site-packages/sklearn/cluster/_kmeans.py:1412: FutureWarning: The default value of `n_init` will change from 10 to 'auto' in 1.4. Set the value of `n_init` explicitly to suppress the warning\n",
      "  super()._check_params_vs_input(X, default_n_init=10)\n",
      "/Users/jilliangraham/anaconda3/lib/python3.11/site-packages/sklearn/cluster/_kmeans.py:1412: FutureWarning: The default value of `n_init` will change from 10 to 'auto' in 1.4. Set the value of `n_init` explicitly to suppress the warning\n",
      "  super()._check_params_vs_input(X, default_n_init=10)\n",
      "/Users/jilliangraham/anaconda3/lib/python3.11/site-packages/sklearn/cluster/_kmeans.py:1412: FutureWarning: The default value of `n_init` will change from 10 to 'auto' in 1.4. Set the value of `n_init` explicitly to suppress the warning\n",
      "  super()._check_params_vs_input(X, default_n_init=10)\n"
     ]
    },
    {
     "name": "stdout",
     "output_type": "stream",
     "text": [
      "Training a K-Means model with 9 clusters! \n",
      "\n",
      "Training a K-Means model with 10 clusters! \n",
      "\n"
     ]
    },
    {
     "name": "stderr",
     "output_type": "stream",
     "text": [
      "/Users/jilliangraham/anaconda3/lib/python3.11/site-packages/sklearn/cluster/_kmeans.py:1412: FutureWarning: The default value of `n_init` will change from 10 to 'auto' in 1.4. Set the value of `n_init` explicitly to suppress the warning\n",
      "  super()._check_params_vs_input(X, default_n_init=10)\n",
      "/Users/jilliangraham/anaconda3/lib/python3.11/site-packages/sklearn/cluster/_kmeans.py:1412: FutureWarning: The default value of `n_init` will change from 10 to 'auto' in 1.4. Set the value of `n_init` explicitly to suppress the warning\n",
      "  super()._check_params_vs_input(X, default_n_init=10)\n"
     ]
    },
    {
     "name": "stdout",
     "output_type": "stream",
     "text": [
      "Training a K-Means model with 11 clusters! \n",
      "\n",
      "Training a K-Means model with 12 clusters! \n",
      "\n"
     ]
    },
    {
     "name": "stderr",
     "output_type": "stream",
     "text": [
      "/Users/jilliangraham/anaconda3/lib/python3.11/site-packages/sklearn/cluster/_kmeans.py:1412: FutureWarning: The default value of `n_init` will change from 10 to 'auto' in 1.4. Set the value of `n_init` explicitly to suppress the warning\n",
      "  super()._check_params_vs_input(X, default_n_init=10)\n",
      "/Users/jilliangraham/anaconda3/lib/python3.11/site-packages/sklearn/cluster/_kmeans.py:1412: FutureWarning: The default value of `n_init` will change from 10 to 'auto' in 1.4. Set the value of `n_init` explicitly to suppress the warning\n",
      "  super()._check_params_vs_input(X, default_n_init=10)\n"
     ]
    },
    {
     "name": "stdout",
     "output_type": "stream",
     "text": [
      "Training a K-Means model with 13 clusters! \n",
      "\n",
      "Training a K-Means model with 14 clusters! \n",
      "\n"
     ]
    },
    {
     "name": "stderr",
     "output_type": "stream",
     "text": [
      "/Users/jilliangraham/anaconda3/lib/python3.11/site-packages/sklearn/cluster/_kmeans.py:1412: FutureWarning: The default value of `n_init` will change from 10 to 'auto' in 1.4. Set the value of `n_init` explicitly to suppress the warning\n",
      "  super()._check_params_vs_input(X, default_n_init=10)\n",
      "/Users/jilliangraham/anaconda3/lib/python3.11/site-packages/sklearn/cluster/_kmeans.py:1412: FutureWarning: The default value of `n_init` will change from 10 to 'auto' in 1.4. Set the value of `n_init` explicitly to suppress the warning\n",
      "  super()._check_params_vs_input(X, default_n_init=10)\n"
     ]
    },
    {
     "name": "stdout",
     "output_type": "stream",
     "text": [
      "Training a K-Means model with 15 clusters! \n",
      "\n",
      "Training a K-Means model with 16 clusters! \n",
      "\n"
     ]
    },
    {
     "name": "stderr",
     "output_type": "stream",
     "text": [
      "/Users/jilliangraham/anaconda3/lib/python3.11/site-packages/sklearn/cluster/_kmeans.py:1412: FutureWarning: The default value of `n_init` will change from 10 to 'auto' in 1.4. Set the value of `n_init` explicitly to suppress the warning\n",
      "  super()._check_params_vs_input(X, default_n_init=10)\n",
      "/Users/jilliangraham/anaconda3/lib/python3.11/site-packages/sklearn/cluster/_kmeans.py:1412: FutureWarning: The default value of `n_init` will change from 10 to 'auto' in 1.4. Set the value of `n_init` explicitly to suppress the warning\n",
      "  super()._check_params_vs_input(X, default_n_init=10)\n"
     ]
    },
    {
     "name": "stdout",
     "output_type": "stream",
     "text": [
      "Training a K-Means model with 17 clusters! \n",
      "\n",
      "Training a K-Means model with 18 clusters! \n",
      "\n"
     ]
    },
    {
     "name": "stderr",
     "output_type": "stream",
     "text": [
      "/Users/jilliangraham/anaconda3/lib/python3.11/site-packages/sklearn/cluster/_kmeans.py:1412: FutureWarning: The default value of `n_init` will change from 10 to 'auto' in 1.4. Set the value of `n_init` explicitly to suppress the warning\n",
      "  super()._check_params_vs_input(X, default_n_init=10)\n",
      "/Users/jilliangraham/anaconda3/lib/python3.11/site-packages/sklearn/cluster/_kmeans.py:1412: FutureWarning: The default value of `n_init` will change from 10 to 'auto' in 1.4. Set the value of `n_init` explicitly to suppress the warning\n",
      "  super()._check_params_vs_input(X, default_n_init=10)\n"
     ]
    },
    {
     "name": "stdout",
     "output_type": "stream",
     "text": [
      "Training a K-Means model with 19 clusters! \n",
      "\n",
      "Training a K-Means model with 20 clusters! \n",
      "\n"
     ]
    },
    {
     "name": "stderr",
     "output_type": "stream",
     "text": [
      "/Users/jilliangraham/anaconda3/lib/python3.11/site-packages/sklearn/cluster/_kmeans.py:1412: FutureWarning: The default value of `n_init` will change from 10 to 'auto' in 1.4. Set the value of `n_init` explicitly to suppress the warning\n",
      "  super()._check_params_vs_input(X, default_n_init=10)\n"
     ]
    },
    {
     "data": {
      "text/plain": [
       "Text(0.5, 1.0, 'Elbow Method showing the optimal k')"
      ]
     },
     "execution_count": 20,
     "metadata": {},
     "output_type": "execute_result"
    },
    {
     "data": {
      "image/png": "[encoded data removed]",
      "text/plain": [
       "<Figure size 1600x800 with 1 Axes>"
      ]
     },
     "metadata": {},
     "output_type": "display_data"
    }
   ],
   "source": [
    "K = range(2, 21)\n",
    "inertia = []\n",
    "\n",
    "for k in K:\n",
    "    print(\"Training a K-Means model with {} clusters! \".format(k))\n",
    "    print()\n",
    "    kmeans = KMeans(n_clusters=k,\n",
    "                    random_state=1234)\n",
    "    kmeans.fit(X_scaled_pottify_df_clustering)\n",
    "    inertia.append(kmeans.inertia_)\n",
    "\n",
    "%matplotlib inline\n",
    "\n",
    "plt.figure(figsize=(16,8))\n",
    "plt.plot(K, inertia, 'bx-')\n",
    "plt.xlabel('k')\n",
    "plt.ylabel('inertia')\n",
    "plt.xticks(np.arange(min(K), max(K)+1, 1.0))\n",
    "plt.title('Elbow Method showing the optimal k')"
   ]
  },
  {
   "cell_type": "code",
   "execution_count": 21,
   "id": "c6bd549c-7c3a-4697-ad5a-1f83fe64703f",
   "metadata": {
    "tags": []
   },
   "outputs": [
    {
     "name": "stdout",
     "output_type": "stream",
     "text": [
      "7066.551694323934\n"
     ]
    }
   ],
   "source": [
    "kmeans3 = KMeans(n_clusters=7,\n",
    "                init=\"k-means++\",\n",
    "                n_init=10,  # try with 1, 4, 8, 20, 30, 100...\n",
    "                max_iter=5,\n",
    "                algorithm=\"elkan\",\n",
    "                random_state=1234)\n",
    "kmeans3.fit(X_scaled_pottify_df_clustering)\n",
    "print(kmeans3.inertia_)"
   ]
  },
  {
   "cell_type": "code",
   "execution_count": 22,
   "id": "49eed3a1-c3cd-4686-a56f-7355e0cf1190",
   "metadata": {
    "tags": []
   },
   "outputs": [
    {
     "name": "stdout",
     "output_type": "stream",
     "text": [
      "5967.646710198331\n"
     ]
    }
   ],
   "source": [
    "kmeans4 = KMeans(n_clusters=12,\n",
    "                init=\"k-means++\",\n",
    "                n_init=10,  # try with 1, 4, 8, 20, 30, 100...\n",
    "                max_iter=5,\n",
    "                algorithm=\"elkan\",\n",
    "                random_state=1234)\n",
    "kmeans4.fit(X_scaled_pottify_df_clustering)\n",
    "print(kmeans4.inertia_)"
   ]
  },
  {
   "cell_type": "code",
   "execution_count": 23,
   "id": "adf417af-5d28-4234-913e-118d59741797",
   "metadata": {
    "tags": []
   },
   "outputs": [
    {
     "name": "stdout",
     "output_type": "stream",
     "text": [
      "5570.275504458995\n"
     ]
    }
   ],
   "source": [
    "kmeans5 = KMeans(n_clusters=14,\n",
    "                init=\"k-means++\",\n",
    "                n_init=10,  # try with 1, 4, 8, 20, 30, 100...\n",
    "                max_iter=5,\n",
    "                algorithm=\"elkan\",\n",
    "                random_state=1234)\n",
    "kmeans5.fit(X_scaled_pottify_df_clustering)\n",
    "print(kmeans5.inertia_)"
   ]
  },
  {
   "cell_type": "code",
   "execution_count": 24,
   "id": "c4669792-b5e2-4423-9f96-2f10332a21c9",
   "metadata": {
    "tags": []
   },
   "outputs": [],
   "source": [
    "def load(filename = \"filename.pickle\"): \n",
    "    try: \n",
    "        with open(filename, \"rb\") as f: \n",
    "            return pickle.load(f) \n",
    "        \n",
    "    except FileNotFoundError: \n",
    "        print(\"File not found!\") "
   ]
  },
  {
   "cell_type": "code",
   "execution_count": 27,
   "id": "9eb19fe1-bfcf-481b-bdf5-1983d0612da4",
   "metadata": {
    "tags": []
   },
   "outputs": [],
   "source": [
    "scaler= load(filename=\"kmeans_14.pickle\")"
   ]
  },
  {
   "cell_type": "code",
   "execution_count": 28,
   "id": "39c7576a-a9d1-4746-995c-d4d902298e42",
   "metadata": {
    "tags": []
   },
   "outputs": [],
   "source": [
    "kmeans_model = load(filename=\"kmeans_14.pickle\")"
   ]
  },
  {
   "cell_type": "code",
   "execution_count": 29,
   "id": "ad8c6cee-a238-479a-a32f-63c5a81d0d2e",
   "metadata": {
    "tags": []
   },
   "outputs": [
    {
     "data": {
      "text/html": [
       "<style>#sk-container-id-2 {color: black;}#sk-container-id-2 pre{padding: 0;}#sk-container-id-2 div.sk-toggleable {background-color: white;}#sk-container-id-2 label.sk-toggleable__label {cursor: pointer;display: block;width: 100%;margin-bottom: 0;padding: 0.3em;box-sizing: border-box;text-align: center;}#sk-container-id-2 label.sk-toggleable__label-arrow:before {content: \"▸\";float: left;margin-right: 0.25em;color: #696969;}#sk-container-id-2 label.sk-toggleable__label-arrow:hover:before {color: black;}#sk-container-id-2 div.sk-estimator:hover label.sk-toggleable__label-arrow:before {color: black;}#sk-container-id-2 div.sk-toggleable__content {max-height: 0;max-width: 0;overflow: hidden;text-align: left;background-color: #f0f8ff;}#sk-container-id-2 div.sk-toggleable__content pre {margin: 0.2em;color: black;border-radius: 0.25em;background-color: #f0f8ff;}#sk-container-id-2 input.sk-toggleable__control:checked~div.sk-toggleable__content {max-height: 200px;max-width: 100%;overflow: auto;}#sk-container-id-2 input.sk-toggleable__control:checked~label.sk-toggleable__label-arrow:before {content: \"▾\";}#sk-container-id-2 div.sk-estimator input.sk-toggleable__control:checked~label.sk-toggleable__label {background-color: #d4ebff;}#sk-container-id-2 div.sk-label input.sk-toggleable__control:checked~label.sk-toggleable__label {background-color: #d4ebff;}#sk-container-id-2 input.sk-hidden--visually {border: 0;clip: rect(1px 1px 1px 1px);clip: rect(1px, 1px, 1px, 1px);height: 1px;margin: -1px;overflow: hidden;padding: 0;position: absolute;width: 1px;}#sk-container-id-2 div.sk-estimator {font-family: monospace;background-color: #f0f8ff;border: 1px dotted black;border-radius: 0.25em;box-sizing: border-box;margin-bottom: 0.5em;}#sk-container-id-2 div.sk-estimator:hover {background-color: #d4ebff;}#sk-container-id-2 div.sk-parallel-item::after {content: \"\";width: 100%;border-bottom: 1px solid gray;flex-grow: 1;}#sk-container-id-2 div.sk-label:hover label.sk-toggleable__label {background-color: #d4ebff;}#sk-container-id-2 div.sk-serial::before {content: \"\";position: absolute;border-left: 1px solid gray;box-sizing: border-box;top: 0;bottom: 0;left: 50%;z-index: 0;}#sk-container-id-2 div.sk-serial {display: flex;flex-direction: column;align-items: center;background-color: white;padding-right: 0.2em;padding-left: 0.2em;position: relative;}#sk-container-id-2 div.sk-item {position: relative;z-index: 1;}#sk-container-id-2 div.sk-parallel {display: flex;align-items: stretch;justify-content: center;background-color: white;position: relative;}#sk-container-id-2 div.sk-item::before, #sk-container-id-2 div.sk-parallel-item::before {content: \"\";position: absolute;border-left: 1px solid gray;box-sizing: border-box;top: 0;bottom: 0;left: 50%;z-index: -1;}#sk-container-id-2 div.sk-parallel-item {display: flex;flex-direction: column;z-index: 1;position: relative;background-color: white;}#sk-container-id-2 div.sk-parallel-item:first-child::after {align-self: flex-end;width: 50%;}#sk-container-id-2 div.sk-parallel-item:last-child::after {align-self: flex-start;width: 50%;}#sk-container-id-2 div.sk-parallel-item:only-child::after {width: 0;}#sk-container-id-2 div.sk-dashed-wrapped {border: 1px dashed gray;margin: 0 0.4em 0.5em 0.4em;box-sizing: border-box;padding-bottom: 0.4em;background-color: white;}#sk-container-id-2 div.sk-label label {font-family: monospace;font-weight: bold;display: inline-block;line-height: 1.2em;}#sk-container-id-2 div.sk-label-container {text-align: center;}#sk-container-id-2 div.sk-container {/* jupyter's `normalize.less` sets `[hidden] { display: none; }` but bootstrap.min.css set `[hidden] { display: none !important; }` so we also need the `!important` here to be able to override the default hidden behavior on the sphinx rendered scikit-learn.org. See: https://github.com/scikit-learn/scikit-learn/issues/21755 */display: inline-block !important;position: relative;}#sk-container-id-2 div.sk-text-repr-fallback {display: none;}</style><div id=\"sk-container-id-2\" class=\"sk-top-container\"><div class=\"sk-text-repr-fallback\"><pre>KMeans(n_clusters=20, random_state=1234)</pre><b>In a Jupyter environment, please rerun this cell to show the HTML representation or trust the notebook. <br />On GitHub, the HTML representation is unable to render, please try loading this page with nbviewer.org.</b></div><div class=\"sk-container\" hidden><div class=\"sk-item\"><div class=\"sk-estimator sk-toggleable\"><input class=\"sk-toggleable__control sk-hidden--visually\" id=\"sk-estimator-id-2\" type=\"checkbox\" checked><label for=\"sk-estimator-id-2\" class=\"sk-toggleable__label sk-toggleable__label-arrow\">KMeans</label><div class=\"sk-toggleable__content\"><pre>KMeans(n_clusters=20, random_state=1234)</pre></div></div></div></div></div>"
      ],
      "text/plain": [
       "KMeans(n_clusters=20, random_state=1234)"
      ]
     },
     "execution_count": 29,
     "metadata": {},
     "output_type": "execute_result"
    }
   ],
   "source": [
    "kmeans_model"
   ]
  },
  {
   "cell_type": "code",
   "execution_count": 31,
   "id": "09b7fd21-a274-4761-ae92-da1affd6201f",
   "metadata": {
    "tags": []
   },
   "outputs": [],
   "source": []
  }
 ],
 "metadata": {
  "kernelspec": {
   "display_name": "Python 3 (ipykernel)",
   "language": "python",
   "name": "python3"
  },
  "language_info": {
   "codemirror_mode": {
    "name": "ipython",
    "version": 3
   },
   "file_extension": ".py",
   "mimetype": "text/x-python",
   "name": "python",
   "nbconvert_exporter": "python",
   "pygments_lexer": "ipython3",
   "version": "3.11.5"
  }
 },
 "nbformat": 4,
 "nbformat_minor": 5
}
