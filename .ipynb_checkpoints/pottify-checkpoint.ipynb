{
 "cells": [
  {
   "cell_type": "code",
   "execution_count": 1,
   "id": "f6c4660e-1b10-43d4-8aea-8c6dbc4cfb49",
   "metadata": {
    "tags": []
   },
   "outputs": [],
   "source": [
    "import config\n",
    "from bs4 import BeautifulSoup\n",
    "import requests\n",
    "import pandas as pd\n",
    "import spotipy as sp\n",
    "import pprint\n",
    "from spotipy.oauth2 import SpotifyClientCredentials\n",
    "import json\n",
    "from IPython.display import display, FileLink\n",
    "import numpy as np\n",
    "import pickle\n",
    "from sklearn import datasets\n",
    "from sklearn.preprocessing import StandardScaler\n",
    "from sklearn.cluster import KMeans\n",
    "import matplotlib.pyplot as plt\n",
    "from sklearn.metrics import silhouette_score\n",
    "import random"
   ]
  },
  {
   "cell_type": "code",
   "execution_count": 19,
   "id": "9cf772b3",
   "metadata": {},
   "outputs": [
    {
     "ename": "EOFError",
     "evalue": "Ran out of input",
     "output_type": "error",
     "traceback": [
      "\u001b[0;31m---------------------------------------------------------------------------\u001b[0m",
      "\u001b[0;31mEOFError\u001b[0m                                  Traceback (most recent call last)",
      "Cell \u001b[0;32mIn[19], line 2\u001b[0m\n\u001b[1;32m      1\u001b[0m \u001b[38;5;28;01mwith\u001b[39;00m \u001b[38;5;28mopen\u001b[39m(\u001b[38;5;124m\"\u001b[39m\u001b[38;5;124mscaler.pickle\u001b[39m\u001b[38;5;124m\"\u001b[39m, \u001b[38;5;124m\"\u001b[39m\u001b[38;5;124mrb\u001b[39m\u001b[38;5;124m\"\u001b[39m) \u001b[38;5;28;01mas\u001b[39;00m f:\n\u001b[0;32m----> 2\u001b[0m     scaler \u001b[38;5;241m=\u001b[39m pickle\u001b[38;5;241m.\u001b[39mload(f)\n\u001b[1;32m      4\u001b[0m \u001b[38;5;28;01mdef\u001b[39;00m \u001b[38;5;21mload\u001b[39m(filename \u001b[38;5;241m=\u001b[39m \u001b[38;5;124m\"\u001b[39m\u001b[38;5;124mfilename.pickle\u001b[39m\u001b[38;5;124m\"\u001b[39m): \n\u001b[1;32m      5\u001b[0m     \u001b[38;5;28;01mtry\u001b[39;00m: \n",
      "\u001b[0;31mEOFError\u001b[0m: Ran out of input"
     ]
    }
   ],
   "source": [
    "with open(\"scaler.pickle\", \"rb\") as f:\n",
    "    scaler = pickle.load(f)\n",
    "\n",
    "def load(filename = \"filename.pickle\"): \n",
    "    try: \n",
    "        with open(filename, \"rb\") as f: \n",
    "            return pickle.load(f) \n",
    "        \n",
    "    except FileNotFoundError: \n",
    "        print(\"File not found!\") "
   ]
  },
  {
   "cell_type": "code",
   "execution_count": 2,
   "id": "36b28d06-e207-43d9-a825-e8fc26a31a21",
   "metadata": {},
   "outputs": [],
   "source": [
    "#Initialize SpotiPy with user credentials\n",
    "sp = sp.Spotify(auth_manager=SpotifyClientCredentials(client_id= config.client_id,\n",
    "                                                           client_secret= config.client_secret))"
   ]
  },
  {
   "cell_type": "code",
   "execution_count": 3,
   "id": "58495057-bb99-4c64-a7bd-72b0edf75f04",
   "metadata": {
    "scrolled": true,
    "tags": []
   },
   "outputs": [
    {
     "name": "stdout",
     "output_type": "stream",
     "text": [
      "<class 'pandas.core.frame.DataFrame'>\n",
      "RangeIndex: 1193 entries, 0 to 1192\n",
      "Data columns (total 13 columns):\n",
      " #   Column            Non-Null Count  Dtype  \n",
      "---  ------            --------------  -----  \n",
      " 0   danceability      1193 non-null   float64\n",
      " 1   energy            1193 non-null   float64\n",
      " 2   key               1193 non-null   float64\n",
      " 3   loudness          1193 non-null   float64\n",
      " 4   mode              1193 non-null   float64\n",
      " 5   speechiness       1193 non-null   float64\n",
      " 6   acousticness      1193 non-null   float64\n",
      " 7   instrumentalness  1193 non-null   float64\n",
      " 8   liveness          1193 non-null   float64\n",
      " 9   valence           1193 non-null   float64\n",
      " 10  tempo             1193 non-null   float64\n",
      " 11  cluster           1193 non-null   float64\n",
      " 12  id                1193 non-null   object \n",
      "dtypes: float64(12), object(1)\n",
      "memory usage: 121.3+ KB\n"
     ]
    }
   ],
   "source": [
    "pottify_df_clustered = pd.read_csv('pottify_df_clustered.csv')\n",
    "pottify_df_clustered.info()"
   ]
  },
  {
   "cell_type": "code",
   "execution_count": 16,
   "id": "46870e5d-ae83-4fc3-a3ef-a29e7e87e3f2",
   "metadata": {
    "tags": []
   },
   "outputs": [],
   "source": [
    "def recommended_songs (user_input):\n",
    "\n",
    "    user_input = input(\"Enter a song title: \").lower()\n",
    "    \n",
    "    #get song ID based on user input\n",
    "    api_request = sp.search(q = user_input, limit=1)\n",
    "    song_id = str(api_request[\"tracks\"][\"items\"][0][\"id\"])\n",
    "\n",
    "    #get features of song\n",
    "    song_id_af = sp.audio_features(song_id)\n",
    "    \n",
    "    # make dataframe of AF\n",
    "    user_input_df = pd.DataFrame(song_id_af)\n",
    "    user_input_df.drop(columns = ['type', 'id', 'uri', 'track_href', 'analysis_url', 'duration_ms', 'time_signature'], inplace = True)\n",
    "\n",
    "    #scale the user's dataframe\n",
    "    user_input_df_scaled = scaler.transform(user_input_df)\n",
    "\n",
    "    #predict the cluster based on user df\n",
    "    user_song_cluster_pred = model.predict(user_input_df)\n",
    "    \n",
    "    #recieve cluster\n",
    "    user_song_cluster = user_song_cluster_pred['cluster'].value\n",
    "    \n",
    "    #create a new dataframe based on predicted cluster\n",
    "    user_song_cluster_df = pottify_df_clustered[pottify_df_clustered.cluster == prediction]                                   \n",
    "    user_song_cluster_df = user_song_cluster_df.reset_index(drop = True)       \n",
    "    \n",
    "    #apply model to dataframe\n",
    "    random_songs_indexed = random.randint(0, len(user_song_cluster_df))                                        \n",
    "    random_songs_id = user_song_cluster_df['id'][random_songs_indexed] \n",
    "    recommended_song = pottify_df_clustered(random.choice(user_song_cluster))\n",
    "    \n",
    "    return IFrame(src=\"https://open.spotify.com/embed/track/\"+random_songs_id,                       \n",
    "        width=\"320\",                                                                                 \n",
    "        height=\"80\",\n",
    "        frameborder=\"0\",\n",
    "        allowtransparency=\"true\",\n",
    "        allow=\"encrypted-media\",\n",
    "        )"
   ]
  },
  {
   "cell_type": "code",
   "execution_count": 17,
   "id": "3d8f3311-9e23-4de9-a103-ae42d1281b99",
   "metadata": {
    "tags": []
   },
   "outputs": [
    {
     "name": "stdout",
     "output_type": "stream",
     "text": [
      "Enter a song title: des\n"
     ]
    },
    {
     "ename": "AttributeError",
     "evalue": "'StandardScaler' object has no attribute 'pickle'",
     "output_type": "error",
     "traceback": [
      "\u001b[0;31m---------------------------------------------------------------------------\u001b[0m",
      "\u001b[0;31mAttributeError\u001b[0m                            Traceback (most recent call last)",
      "Cell \u001b[0;32mIn[17], line 5\u001b[0m\n\u001b[1;32m      2\u001b[0m user_input \u001b[38;5;241m=\u001b[39m \u001b[38;5;124m\"\u001b[39m\u001b[38;5;124mDespacito\u001b[39m\u001b[38;5;124m\"\u001b[39m\n\u001b[1;32m      4\u001b[0m \u001b[38;5;66;03m# Call the function with the sample input\u001b[39;00m\n\u001b[0;32m----> 5\u001b[0m recommendation_iframe \u001b[38;5;241m=\u001b[39m recommended_songs(user_input)\n\u001b[1;32m      7\u001b[0m \u001b[38;5;66;03m# Display the recommendation iframe\u001b[39;00m\n\u001b[1;32m      8\u001b[0m recommendation_iframe\n",
      "Cell \u001b[0;32mIn[16], line 18\u001b[0m, in \u001b[0;36mrecommended_songs\u001b[0;34m(user_input)\u001b[0m\n\u001b[1;32m     16\u001b[0m \u001b[38;5;66;03m#scale the user's dataframe\u001b[39;00m\n\u001b[1;32m     17\u001b[0m scaler \u001b[38;5;241m=\u001b[39m load(filename\u001b[38;5;241m=\u001b[39m\u001b[38;5;124m\"\u001b[39m\u001b[38;5;124mscaler.pickle\u001b[39m\u001b[38;5;124m\"\u001b[39m)\n\u001b[0;32m---> 18\u001b[0m scaler\u001b[38;5;241m.\u001b[39mpickle(user_input_df)\n\u001b[1;32m     20\u001b[0m \u001b[38;5;66;03m#predict the cluster based on user df\u001b[39;00m\n\u001b[1;32m     21\u001b[0m user_song_cluster_pred \u001b[38;5;241m=\u001b[39m model\u001b[38;5;241m.\u001b[39mpredict(user_input_df)\n",
      "\u001b[0;31mAttributeError\u001b[0m: 'StandardScaler' object has no attribute 'pickle'"
     ]
    }
   ],
   "source": [
    "# Sample input\n",
    "user_input = \"Despacito\"\n",
    "\n",
    "# Call the function with the sample input\n",
    "recommendation_iframe = recommended_songs(user_input)\n",
    "\n",
    "# Display the recommendation iframe\n",
    "recommendation_iframe\n"
   ]
  }
 ],
 "metadata": {
  "kernelspec": {
   "display_name": "Python 3 (ipykernel)",
   "language": "python",
   "name": "python3"
  },
  "language_info": {
   "codemirror_mode": {
    "name": "ipython",
    "version": 3
   },
   "file_extension": ".py",
   "mimetype": "text/x-python",
   "name": "python",
   "nbconvert_exporter": "python",
   "pygments_lexer": "ipython3",
   "version": "3.11.5"
  }
 },
 "nbformat": 4,
 "nbformat_minor": 5
}
