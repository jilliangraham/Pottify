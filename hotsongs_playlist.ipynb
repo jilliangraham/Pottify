{
 "cells": [
  {
   "cell_type": "markdown",
   "id": "e3ac6585",
   "metadata": {},
   "source": [
    "# Installing Spotipy"
   ]
  },
  {
   "cell_type": "code",
   "execution_count": 1,
   "id": "0fd3218b",
   "metadata": {
    "scrolled": true
   },
   "outputs": [],
   "source": [
    "#conda install -c anaconda beautifulsoup4"
   ]
  },
  {
   "cell_type": "code",
   "execution_count": 2,
   "id": "e72b1da3",
   "metadata": {
    "scrolled": true
   },
   "outputs": [],
   "source": [
    "#conda install -c anaconda requests"
   ]
  },
  {
   "cell_type": "code",
   "execution_count": 3,
   "id": "c61621c6",
   "metadata": {
    "scrolled": true
   },
   "outputs": [],
   "source": [
    "#conda install -c conda-forge spotipy"
   ]
  },
  {
   "cell_type": "markdown",
   "id": "0cbe44a7",
   "metadata": {},
   "source": [
    "# Loading credentials from the config file"
   ]
  },
  {
   "cell_type": "code",
   "execution_count": 17,
   "id": "deddac3c",
   "metadata": {},
   "outputs": [
    {
     "ename": "ModuleNotFoundError",
     "evalue": "No module named 'spotify'",
     "output_type": "error",
     "traceback": [
      "\u001b[0;31m---------------------------------------------------------------------------\u001b[0m",
      "\u001b[0;31mModuleNotFoundError\u001b[0m                       Traceback (most recent call last)",
      "Cell \u001b[0;32mIn[17], line 8\u001b[0m\n\u001b[1;32m      6\u001b[0m \u001b[38;5;28;01mimport\u001b[39;00m \u001b[38;5;21;01mspotipy\u001b[39;00m\n\u001b[1;32m      7\u001b[0m \u001b[38;5;28;01mimport\u001b[39;00m \u001b[38;5;21;01mpprint\u001b[39;00m\n\u001b[0;32m----> 8\u001b[0m \u001b[38;5;28;01mfrom\u001b[39;00m \u001b[38;5;21;01mspotify\u001b[39;00m\u001b[38;5;21;01m.\u001b[39;00m\u001b[38;5;21;01moath2\u001b[39;00m \u001b[38;5;28;01mimport\u001b[39;00m SpotifyClientCredentials\n",
      "\u001b[0;31mModuleNotFoundError\u001b[0m: No module named 'spotify'"
     ]
    }
   ],
   "source": [
    "#import things\n",
    "import config\n",
    "from bs4 import BeautifulSoup\n",
    "import requests\n",
    "import pandas as pd\n",
    "import spotipy\n",
    "import pprint\n",
    "from spotify.oath2 import SpotifyClientCredentials"
   ]
  },
  {
   "cell_type": "markdown",
   "id": "d0fd07ba-2d16-4a2f-90ff-21abceb696c0",
   "metadata": {},
   "source": [
    "# get top 100 rock songs"
   ]
  },
  {
   "cell_type": "code",
   "execution_count": 13,
   "id": "7544ee28",
   "metadata": {},
   "outputs": [],
   "source": [
    "# make soup\n",
    "url = \"https://www.cleveland.com/entertainment/2022/06/100-greatest-rock-roll-hall-of-fame-songs-of-all-time-ranked.html\"\n",
    "response = requests.get(url)\n",
    "soup = BeautifulSoup(response.content)\n"
   ]
  },
  {
   "cell_type": "code",
   "execution_count": 11,
   "id": "31a82c38",
   "metadata": {},
   "outputs": [
    {
     "data": {
      "text/html": [
       "<div>\n",
       "<style scoped>\n",
       "    .dataframe tbody tr th:only-of-type {\n",
       "        vertical-align: middle;\n",
       "    }\n",
       "\n",
       "    .dataframe tbody tr th {\n",
       "        vertical-align: top;\n",
       "    }\n",
       "\n",
       "    .dataframe thead th {\n",
       "        text-align: right;\n",
       "    }\n",
       "</style>\n",
       "<table border=\"1\" class=\"dataframe\">\n",
       "  <thead>\n",
       "    <tr style=\"text-align: right;\">\n",
       "      <th></th>\n",
       "      <th>Rank</th>\n",
       "      <th>Artist</th>\n",
       "      <th>Title</th>\n",
       "      <th>Year</th>\n",
       "    </tr>\n",
       "  </thead>\n",
       "  <tbody>\n",
       "    <tr>\n",
       "      <th>0</th>\n",
       "      <td>100</td>\n",
       "      <td>The Shirelles</td>\n",
       "      <td>“Will You Love Me Tomorrow”</td>\n",
       "      <td>1960</td>\n",
       "    </tr>\n",
       "    <tr>\n",
       "      <th>1</th>\n",
       "      <td>99</td>\n",
       "      <td>Cheap Trick</td>\n",
       "      <td>“Surrender”</td>\n",
       "      <td>1978</td>\n",
       "    </tr>\n",
       "    <tr>\n",
       "      <th>2</th>\n",
       "      <td>98</td>\n",
       "      <td>Roy Orbison</td>\n",
       "      <td>“Crying”</td>\n",
       "      <td>1961</td>\n",
       "    </tr>\n",
       "    <tr>\n",
       "      <th>3</th>\n",
       "      <td>97</td>\n",
       "      <td>Jackie Wilson</td>\n",
       "      <td>“(Your Love Keeps Lifting Me) Higher and Higher”</td>\n",
       "      <td>1967</td>\n",
       "    </tr>\n",
       "    <tr>\n",
       "      <th>4</th>\n",
       "      <td>96</td>\n",
       "      <td>The Doors</td>\n",
       "      <td>“Light My Fire”</td>\n",
       "      <td>1967</td>\n",
       "    </tr>\n",
       "    <tr>\n",
       "      <th>...</th>\n",
       "      <td>...</td>\n",
       "      <td>...</td>\n",
       "      <td>...</td>\n",
       "      <td>...</td>\n",
       "    </tr>\n",
       "    <tr>\n",
       "      <th>94</th>\n",
       "      <td>5</td>\n",
       "      <td>The Beach Boys</td>\n",
       "      <td>“Good Vibrations”</td>\n",
       "      <td>1966</td>\n",
       "    </tr>\n",
       "    <tr>\n",
       "      <th>95</th>\n",
       "      <td>4</td>\n",
       "      <td>Nina Simone</td>\n",
       "      <td>“Sinnerman”</td>\n",
       "      <td>1968</td>\n",
       "    </tr>\n",
       "    <tr>\n",
       "      <th>96</th>\n",
       "      <td>3</td>\n",
       "      <td>The Beatles</td>\n",
       "      <td>“Tomorrow Never Knows”</td>\n",
       "      <td>1966</td>\n",
       "    </tr>\n",
       "    <tr>\n",
       "      <th>97</th>\n",
       "      <td>2</td>\n",
       "      <td>Joni Mitchell</td>\n",
       "      <td>“A Case of You”</td>\n",
       "      <td>1971</td>\n",
       "    </tr>\n",
       "    <tr>\n",
       "      <th>98</th>\n",
       "      <td>1</td>\n",
       "      <td>David Bowie</td>\n",
       "      <td>“Life on Mars?”</td>\n",
       "      <td>1973</td>\n",
       "    </tr>\n",
       "  </tbody>\n",
       "</table>\n",
       "<p>99 rows × 4 columns</p>\n",
       "</div>"
      ],
      "text/plain": [
       "   Rank          Artist                                             Title  \\\n",
       "0   100   The Shirelles                       “Will You Love Me Tomorrow”   \n",
       "1    99     Cheap Trick                                       “Surrender”   \n",
       "2    98     Roy Orbison                                          “Crying”   \n",
       "3    97   Jackie Wilson  “(Your Love Keeps Lifting Me) Higher and Higher”   \n",
       "4    96       The Doors                                   “Light My Fire”   \n",
       "..  ...             ...                                               ...   \n",
       "94    5  The Beach Boys                                 “Good Vibrations”   \n",
       "95    4     Nina Simone                                       “Sinnerman”   \n",
       "96    3     The Beatles                            “Tomorrow Never Knows”   \n",
       "97    2   Joni Mitchell                                   “A Case of You”   \n",
       "98    1     David Bowie                                   “Life on Mars?”   \n",
       "\n",
       "    Year  \n",
       "0   1960  \n",
       "1   1978  \n",
       "2   1961  \n",
       "3   1967  \n",
       "4   1967  \n",
       "..   ...  \n",
       "94  1966  \n",
       "95  1968  \n",
       "96  1966  \n",
       "97  1971  \n",
       "98  1973  \n",
       "\n",
       "[99 rows x 4 columns]"
      ]
     },
     "execution_count": 11,
     "metadata": {},
     "output_type": "execute_result"
    }
   ],
   "source": [
    "#find the top 100 \n",
    "\n",
    "import pandas as pd\n",
    "from bs4 import BeautifulSoup\n",
    "\n",
    "# Assume you have the HTML content in the variable html_content\n",
    "# soup = BeautifulSoup(html_content, 'html.parser')\n",
    "\n",
    "# Initialize an empty list to store song information\n",
    "songs_data = []\n",
    "\n",
    "# Find all <p> elements with the specified class\n",
    "paragraphs = soup.find_all('p', class_='article__paragraph article__paragraph--left')\n",
    "\n",
    "# Iterate through each paragraph to extract the song titles\n",
    "for paragraph in paragraphs:\n",
    "    # Find the <b> tag within the paragraph\n",
    "    bold_tags = paragraph.find_all('b')\n",
    "    # Check if the <b> tag exists within the paragraph\n",
    "    if bold_tags:\n",
    "        # Extract the text from the <b> tag\n",
    "        song_title = bold_tags[0].text.strip()\n",
    "        \n",
    "        # Attempt to split the string into rank, artist, title, and year\n",
    "        try:\n",
    "            rank, rest = song_title.split('. ', 1)\n",
    "            artist, title_and_year = rest.split(' - ', 1)\n",
    "            title, year = title_and_year.split(' (', 1)\n",
    "            year = year.rstrip(')')\n",
    "        except ValueError:\n",
    "            # If the string doesn't match the expected format, skip this iteration\n",
    "            continue\n",
    "        \n",
    "        # Append the extracted data as a dictionary to the songs_data list\n",
    "        songs_data.append({\"Rank\": rank, \"Artist\": artist, \"Title\": title, \"Year\": year})\n",
    "\n",
    "# Create a DataFrame from the list of dictionaries\n",
    "top_rnr_songs_df = pd.DataFrame(songs_data)\n",
    "top_rnr_songs_df\n",
    "\n",
    "\n"
   ]
  },
  {
   "cell_type": "markdown",
   "id": "62515400-289c-476a-b35c-750aee70a11d",
   "metadata": {},
   "source": [
    "# make part 1 of song recommender"
   ]
  },
  {
   "cell_type": "code",
   "execution_count": 12,
   "id": "73a4dde1",
   "metadata": {
    "tags": []
   },
   "outputs": [
    {
     "name": "stdin",
     "output_type": "stream",
     "text": [
      "Enter a rock and roll song:  Tomorrow\n",
      "Did you mean “Will You Love Me Tomorrow”? Please enter 'yes' or 'no':  no\n",
      "Did you mean “Tomorrow Never Knows”? Please enter 'yes' or 'no':  yes\n"
     ]
    },
    {
     "name": "stdout",
     "output_type": "stream",
     "text": [
      "\n",
      "We could play you the song you requested, but fuck you! Listen to this instead:\n",
      "“Respect” by Aretha Franklin\n"
     ]
    }
   ],
   "source": [
    "#have the user input a rock and roll song\n",
    "\n",
    "while True:\n",
    "    user_input = input(\"Enter a rock and roll song: \")\n",
    "    user_input_lower = user_input.lower()\n",
    "    top_rnr_songs_df['Title_lower'] = top_rnr_songs_df['Title'].str.lower()\n",
    "    partial_matches = top_rnr_songs_df[top_rnr_songs_df['Title_lower'].str.contains(user_input_lower, case=False)]\n",
    "    if not partial_matches.empty:\n",
    "        for title in partial_matches['Title']:\n",
    "            answer = input(f\"Did you mean {title}? Please enter 'yes' or 'no': \").lower()\n",
    "            if answer == 'yes':\n",
    "                break \n",
    "        else:\n",
    "            continue\n",
    "    matches = top_rnr_songs_df[top_rnr_songs_df['Title_lower'].str.contains(user_input_lower)]\n",
    "    if not matches.empty:\n",
    "        random_song = top_rnr_songs_df.sample(1)\n",
    "        random_title = random_song.iloc[0]['Title']\n",
    "        random_artist = random_song.iloc[0]['Artist']\n",
    "        print(\"\\nWe could play you the song you requested, but fuck you! Listen to this instead:\")\n",
    "        print(f\"{random_title} by {random_artist}\")\n",
    "        break\n",
    "    else:\n",
    "        print(\"No matching song found. Please try again.\")\n",
    "    \n"
   ]
  },
  {
   "cell_type": "markdown",
   "id": "5f9b14b8-ee23-4d8b-a9d5-815b0cba41a3",
   "metadata": {},
   "source": [
    "# make part 2 of the song recommender"
   ]
  },
  {
   "cell_type": "markdown",
   "id": "a3821fb7-12a6-459b-9a63-ee6c6bfa0a7d",
   "metadata": {},
   "source": [
    "## understanding the JSON"
   ]
  },
  {
   "cell_type": "code",
   "execution_count": null,
   "id": "cde4ee49-db4e-4b32-98a4-5cc95b3ecb92",
   "metadata": {},
   "outputs": [],
   "source": [
    "sp = spotify.Spotify"
   ]
  },
  {
   "cell_type": "code",
   "execution_count": 16,
   "id": "2b3a2c0b-cd9a-4037-9f67-359c06a454d4",
   "metadata": {
    "tags": []
   },
   "outputs": [
    {
     "ename": "NameError",
     "evalue": "name 'results' is not defined",
     "output_type": "error",
     "traceback": [
      "\u001b[0;31m---------------------------------------------------------------------------\u001b[0m",
      "\u001b[0;31mNameError\u001b[0m                                 Traceback (most recent call last)",
      "Cell \u001b[0;32mIn[16], line 1\u001b[0m\n\u001b[0;32m----> 1\u001b[0m pprint\u001b[38;5;241m.\u001b[39mpprint(results)\n",
      "\u001b[0;31mNameError\u001b[0m: name 'results' is not defined"
     ]
    }
   ],
   "source": [
    "pprint.pprint(results)"
   ]
  },
  {
   "cell_type": "code",
   "execution_count": null,
   "id": "f0ac7128-bd81-47c9-a0ce-cd29752a7292",
   "metadata": {},
   "outputs": [],
   "source": [
    "results = spotipy.search"
   ]
  }
 ],
 "metadata": {
  "kernelspec": {
   "display_name": "Python 3 (ipykernel)",
   "language": "python",
   "name": "python3"
  },
  "language_info": {
   "codemirror_mode": {
    "name": "ipython",
    "version": 3
   },
   "file_extension": ".py",
   "mimetype": "text/x-python",
   "name": "python",
   "nbconvert_exporter": "python",
   "pygments_lexer": "ipython3",
   "version": "3.11.5"
  }
 },
 "nbformat": 4,
 "nbformat_minor": 5
}
